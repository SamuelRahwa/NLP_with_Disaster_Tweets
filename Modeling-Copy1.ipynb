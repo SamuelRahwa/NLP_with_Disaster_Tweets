{
 "cells": [
  {
   "cell_type": "code",
   "execution_count": 1,
   "id": "c1b9593e",
   "metadata": {},
   "outputs": [],
   "source": [
    "# Imports\n",
    "from Functions import *\n",
    "%matplotlib inline\n"
   ]
  },
  {
   "cell_type": "code",
   "execution_count": 2,
   "id": "81070c45",
   "metadata": {},
   "outputs": [],
   "source": [
    "from sklearn.feature_extraction.text import TfidfVectorizer"
   ]
  },
  {
   "cell_type": "code",
   "execution_count": 3,
   "id": "b0f8e2e4",
   "metadata": {},
   "outputs": [],
   "source": [
    "df = pd.read_csv('preprocessed_clean_train_set.csv')"
   ]
  },
  {
   "cell_type": "code",
   "execution_count": 4,
   "id": "e1b4fe3a",
   "metadata": {
    "scrolled": true
   },
   "outputs": [
    {
     "data": {
      "text/html": [
       "<div>\n",
       "<style scoped>\n",
       "    .dataframe tbody tr th:only-of-type {\n",
       "        vertical-align: middle;\n",
       "    }\n",
       "\n",
       "    .dataframe tbody tr th {\n",
       "        vertical-align: top;\n",
       "    }\n",
       "\n",
       "    .dataframe thead th {\n",
       "        text-align: right;\n",
       "    }\n",
       "</style>\n",
       "<table border=\"1\" class=\"dataframe\">\n",
       "  <thead>\n",
       "    <tr style=\"text-align: right;\">\n",
       "      <th></th>\n",
       "      <th>keyword</th>\n",
       "      <th>location</th>\n",
       "      <th>text</th>\n",
       "      <th>target</th>\n",
       "      <th>total_words</th>\n",
       "    </tr>\n",
       "  </thead>\n",
       "  <tbody>\n",
       "    <tr>\n",
       "      <th>0</th>\n",
       "      <td>NaN</td>\n",
       "      <td>NaN</td>\n",
       "      <td>reason allah forgive</td>\n",
       "      <td>1</td>\n",
       "      <td>13</td>\n",
       "    </tr>\n",
       "    <tr>\n",
       "      <th>1</th>\n",
       "      <td>NaN</td>\n",
       "      <td>NaN</td>\n",
       "      <td>forest fire near la range canada</td>\n",
       "      <td>1</td>\n",
       "      <td>7</td>\n",
       "    </tr>\n",
       "    <tr>\n",
       "      <th>2</th>\n",
       "      <td>NaN</td>\n",
       "      <td>NaN</td>\n",
       "      <td>resident ask shelter place officer evacuation ...</td>\n",
       "      <td>1</td>\n",
       "      <td>22</td>\n",
       "    </tr>\n",
       "    <tr>\n",
       "      <th>3</th>\n",
       "      <td>NaN</td>\n",
       "      <td>NaN</td>\n",
       "      <td>people evacuation order california</td>\n",
       "      <td>1</td>\n",
       "      <td>8</td>\n",
       "    </tr>\n",
       "    <tr>\n",
       "      <th>4</th>\n",
       "      <td>NaN</td>\n",
       "      <td>NaN</td>\n",
       "      <td>get send photo smoke school</td>\n",
       "      <td>1</td>\n",
       "      <td>16</td>\n",
       "    </tr>\n",
       "  </tbody>\n",
       "</table>\n",
       "</div>"
      ],
      "text/plain": [
       "  keyword location                                               text  target  \\\n",
       "0     NaN      NaN                               reason allah forgive       1   \n",
       "1     NaN      NaN                   forest fire near la range canada       1   \n",
       "2     NaN      NaN  resident ask shelter place officer evacuation ...       1   \n",
       "3     NaN      NaN                 people evacuation order california       1   \n",
       "4     NaN      NaN                        get send photo smoke school       1   \n",
       "\n",
       "   total_words  \n",
       "0           13  \n",
       "1            7  \n",
       "2           22  \n",
       "3            8  \n",
       "4           16  "
      ]
     },
     "execution_count": 4,
     "metadata": {},
     "output_type": "execute_result"
    }
   ],
   "source": [
    "df.head()"
   ]
  },
  {
   "cell_type": "code",
   "execution_count": 5,
   "id": "f1574ae9",
   "metadata": {},
   "outputs": [],
   "source": [
    "df = df.dropna(subset=['text'])"
   ]
  },
  {
   "cell_type": "code",
   "execution_count": 6,
   "id": "b3bedc52",
   "metadata": {},
   "outputs": [],
   "source": [
    "X = df['text']\n",
    "y = df['target']"
   ]
  },
  {
   "cell_type": "code",
   "execution_count": 7,
   "id": "95d1b6ff",
   "metadata": {},
   "outputs": [],
   "source": [
    "X_train,X_test,y_train, y_test = train_test_split(X,y,test_size=.2, random_state=40521)"
   ]
  },
  {
   "cell_type": "code",
   "execution_count": 8,
   "id": "7d48f06e",
   "metadata": {},
   "outputs": [],
   "source": [
    "tfdf = TfidfVectorizer(max_features=500)\n",
    "tf_vect = tfdf.fit_transform(X_train)"
   ]
  },
  {
   "cell_type": "code",
   "execution_count": 9,
   "id": "2991806a",
   "metadata": {
    "scrolled": true
   },
   "outputs": [
    {
     "data": {
      "text/plain": [
       "5487                                       want rainstorm\n",
       "185                                 ems ems petition hour\n",
       "7478    pic old pkg suicide bomber detonate bomb turke...\n",
       "816                                                 right\n",
       "2439    train derailment freakiest freak accidents ind...\n",
       "                              ...                        \n",
       "3530             image famine hope blog happen forget god\n",
       "51                              santa cruz head st police\n",
       "3433                         tie explosion help drown tie\n",
       "4443                         hurricane live tracking loop\n",
       "6432                      suicide america survive patrick\n",
       "Name: text, Length: 5968, dtype: object"
      ]
     },
     "execution_count": 9,
     "metadata": {},
     "output_type": "execute_result"
    }
   ],
   "source": [
    "X_train"
   ]
  },
  {
   "cell_type": "code",
   "execution_count": 10,
   "id": "850ef564",
   "metadata": {},
   "outputs": [
    {
     "data": {
      "text/plain": [
       "1725    collision east hwy single vehicle leave lane r...\n",
       "5048         nuclear power reactor energy japan fuel pool\n",
       "4079      calgary review policy leave hundred strand hail\n",
       "4752                               mass murder whale stop\n",
       "3205    ave abuse motorcycle involve accident fully en...\n",
       "                              ...                        \n",
       "1709                san head coach dan room guard collide\n",
       "5245                                             sea soon\n",
       "2398                 leave daily let train derail service\n",
       "2694    richmond coach devastate hear death second dri...\n",
       "5029      care life land sea air nuclear disaster problem\n",
       "Name: text, Length: 1492, dtype: object"
      ]
     },
     "execution_count": 10,
     "metadata": {},
     "output_type": "execute_result"
    }
   ],
   "source": [
    "X_test"
   ]
  },
  {
   "cell_type": "code",
   "execution_count": 11,
   "id": "2761850a",
   "metadata": {},
   "outputs": [],
   "source": [
    "X_train_r = pd.DataFrame(tfdf.transform(X_train).todense(),columns=tfdf.get_feature_names())\n",
    "X_test_r = pd.DataFrame(tfdf.transform(X_test).todense(),columns=tfdf.get_feature_names())\n",
    "y_train_r = y_train.copy()\n",
    "y_test_r = y_test.copy()"
   ]
  },
  {
   "cell_type": "code",
   "execution_count": 12,
   "id": "eff96972",
   "metadata": {},
   "outputs": [],
   "source": [
    "# Import Data Here:"
   ]
  },
  {
   "cell_type": "markdown",
   "id": "45ac1340",
   "metadata": {},
   "source": [
    "# Model 1 - Logistic Regression"
   ]
  },
  {
   "cell_type": "code",
   "execution_count": 20,
   "id": "64c8aff3",
   "metadata": {},
   "outputs": [
    {
     "name": "stdout",
     "output_type": "stream",
     "text": [
      "********************************************************\n",
      "\n",
      "\u001b[1m     Classification Report: Train\n",
      "\u001b[0m\n",
      "              precision    recall  f1-score   support\n",
      "\n",
      "           0       0.82      0.88      0.85      3413\n",
      "           1       0.82      0.74      0.78      2555\n",
      "\n",
      "    accuracy                           0.82      5968\n",
      "   macro avg       0.82      0.81      0.81      5968\n",
      "weighted avg       0.82      0.82      0.82      5968\n",
      "\n",
      "********************************************************\n",
      "\n",
      "\u001b[1m     Classification Report: Test\n",
      "\u001b[0m\n",
      "              precision    recall  f1-score   support\n",
      "\n",
      "           0       0.79      0.82      0.80       866\n",
      "           1       0.73      0.70      0.72       626\n",
      "\n",
      "    accuracy                           0.77      1492\n",
      "   macro avg       0.76      0.76      0.76      1492\n",
      "weighted avg       0.77      0.77      0.77      1492\n",
      "\n",
      "********************************************************\n",
      "\n"
     ]
    },
    {
     "data": {
      "image/png": "[encoded data removed]",
      "text/plain": [
       "<Figure size 1296x432 with 4 Axes>"
      ]
     },
     "metadata": {
      "needs_background": "light"
     },
     "output_type": "display_data"
    }
   ],
   "source": [
    "log_pipe = Pipeline([#('ss', StandardScaler()),\n",
    "                     ('log', LogisticRegression(random_state=40521))])\n",
    "log_grid = [{'log__C': [0,10],\n",
    "             'log__solver': ['newton-cg','sag','saga','lbfgs','liblinear']}]\n",
    "log_gridsearch = GridSearchCV(estimator=log_pipe,\n",
    "                              param_grid=log_grid,\n",
    "                              scoring='f1_weighted',\n",
    "                              cv=5)\n",
    "gslog_model = run_class_model(log_gridsearch, X_train_r, y_train_r, X_test_r, y_test_r)"
   ]
  },
  {
   "cell_type": "code",
   "execution_count": 21,
   "id": "ae2f20af",
   "metadata": {},
   "outputs": [
    {
     "data": {
      "text/plain": [
       "{'log__C': 10, 'log__solver': 'newton-cg'}"
      ]
     },
     "execution_count": 21,
     "metadata": {},
     "output_type": "execute_result"
    }
   ],
   "source": [
    "gslog_model.best_params_"
   ]
  },
  {
   "cell_type": "code",
   "execution_count": 22,
   "id": "82481619",
   "metadata": {},
   "outputs": [
    {
     "data": {
      "text/plain": [
       "0.7665186124900936"
      ]
     },
     "execution_count": 22,
     "metadata": {},
     "output_type": "execute_result"
    }
   ],
   "source": [
    "f1_score(y_test_r, gslog_model.predict(X_test_r), pos_label=1,average='weighted')"
   ]
  },
  {
   "cell_type": "markdown",
   "id": "714c0761",
   "metadata": {},
   "source": [
    "# Model 2 - K Nearest Neighbors"
   ]
  },
  {
   "cell_type": "code",
   "execution_count": 23,
   "id": "badaecb5",
   "metadata": {},
   "outputs": [
    {
     "name": "stdout",
     "output_type": "stream",
     "text": [
      "********************************************************\n",
      "\n",
      "\u001b[1m     Classification Report: Train\n",
      "\u001b[0m\n",
      "              precision    recall  f1-score   support\n",
      "\n",
      "           0       0.94      0.98      0.96      3413\n",
      "           1       0.98      0.92      0.95      2555\n",
      "\n",
      "    accuracy                           0.96      5968\n",
      "   macro avg       0.96      0.95      0.95      5968\n",
      "weighted avg       0.96      0.96      0.96      5968\n",
      "\n",
      "********************************************************\n",
      "\n",
      "\u001b[1m     Classification Report: Test\n",
      "\u001b[0m\n",
      "              precision    recall  f1-score   support\n",
      "\n",
      "           0       0.71      0.85      0.78       866\n",
      "           1       0.72      0.52      0.60       626\n",
      "\n",
      "    accuracy                           0.71      1492\n",
      "   macro avg       0.72      0.69      0.69      1492\n",
      "weighted avg       0.72      0.71      0.70      1492\n",
      "\n",
      "********************************************************\n",
      "\n"
     ]
    },
    {
     "data": {
      "image/png": "[encoded data removed]",
      "text/plain": [
       "<Figure size 1296x432 with 4 Axes>"
      ]
     },
     "metadata": {
      "needs_background": "light"
     },
     "output_type": "display_data"
    }
   ],
   "source": [
    "\n",
    "knn_pipe = Pipeline([#('rb', RobustScaler()),\n",
    "                     ('knn', KNeighborsClassifier())])\n",
    "knn_grid = [{'knn__n_neighbors': [3,5],\n",
    "             'knn__weights' : ['uniform', 'distance'],\n",
    "             'knn__leaf_size': [40,50]           \n",
    "            }]\n",
    "\n",
    "knn_gridsearch = GridSearchCV(estimator=knn_pipe,\n",
    "                              param_grid=knn_grid,\n",
    "                              scoring='f1_weighted',\n",
    "                              cv=5)\n",
    "\n",
    "gsknn_model = run_class_model(knn_gridsearch, X_train_r, y_train_r, X_test_r, y_test_r)"
   ]
  },
  {
   "cell_type": "code",
   "execution_count": 24,
   "id": "b9d4c059",
   "metadata": {},
   "outputs": [
    {
     "data": {
      "text/plain": [
       "{'knn__leaf_size': 40, 'knn__n_neighbors': 3, 'knn__weights': 'distance'}"
      ]
     },
     "execution_count": 24,
     "metadata": {},
     "output_type": "execute_result"
    }
   ],
   "source": [
    "gsknn_model.best_params_"
   ]
  },
  {
   "cell_type": "code",
   "execution_count": 25,
   "id": "d1642488",
   "metadata": {},
   "outputs": [
    {
     "data": {
      "text/plain": [
       "0.704466874568507"
      ]
     },
     "execution_count": 25,
     "metadata": {},
     "output_type": "execute_result"
    }
   ],
   "source": [
    "f1_score(y_test_r, gsknn_model.predict(X_test_r), pos_label=1,average='weighted')"
   ]
  },
  {
   "cell_type": "markdown",
   "id": "06eacbfe",
   "metadata": {},
   "source": [
    "# Model 3 - Gaussian Naive Bayes"
   ]
  },
  {
   "cell_type": "code",
   "execution_count": 26,
   "id": "b846aae5",
   "metadata": {},
   "outputs": [],
   "source": [
    "# Gridsearch on GNB?"
   ]
  },
  {
   "cell_type": "code",
   "execution_count": 27,
   "id": "22324a4a",
   "metadata": {},
   "outputs": [
    {
     "name": "stdout",
     "output_type": "stream",
     "text": [
      "********************************************************\n",
      "\n",
      "\u001b[1m     Classification Report: Train\n",
      "\u001b[0m\n",
      "              precision    recall  f1-score   support\n",
      "\n",
      "           0       0.74      0.92      0.82      3413\n",
      "           1       0.84      0.56      0.68      2555\n",
      "\n",
      "    accuracy                           0.77      5968\n",
      "   macro avg       0.79      0.74      0.75      5968\n",
      "weighted avg       0.78      0.77      0.76      5968\n",
      "\n",
      "********************************************************\n",
      "\n",
      "\u001b[1m     Classification Report: Test\n",
      "\u001b[0m\n",
      "              precision    recall  f1-score   support\n",
      "\n",
      "           0       0.72      0.88      0.79       866\n",
      "           1       0.76      0.52      0.62       626\n",
      "\n",
      "    accuracy                           0.73      1492\n",
      "   macro avg       0.74      0.70      0.71      1492\n",
      "weighted avg       0.74      0.73      0.72      1492\n",
      "\n",
      "********************************************************\n",
      "\n"
     ]
    },
    {
     "data": {
      "image/png": "[encoded data removed]",
      "text/plain": [
       "<Figure size 1296x432 with 4 Axes>"
      ]
     },
     "metadata": {
      "needs_background": "light"
     },
     "output_type": "display_data"
    }
   ],
   "source": [
    "gnb_pipe = Pipeline([#('ss', StandardScaler()),\n",
    "                     ('gnb', GaussianNB())])\n",
    "gnb_model = run_class_model(gnb_pipe, X_train_r, y_train_r, X_test_r, y_test_r)"
   ]
  },
  {
   "cell_type": "code",
   "execution_count": 28,
   "id": "ad73f715",
   "metadata": {},
   "outputs": [
    {
     "data": {
      "text/plain": [
       "0.7200403415929086"
      ]
     },
     "execution_count": 28,
     "metadata": {},
     "output_type": "execute_result"
    }
   ],
   "source": [
    "f1_score(y_test_r, gnb_model.predict(X_test_r), pos_label=1,average='weighted')"
   ]
  },
  {
   "cell_type": "markdown",
   "id": "2f3578a0",
   "metadata": {},
   "source": [
    "# Model 4 - Random Forest Classifier"
   ]
  },
  {
   "cell_type": "code",
   "execution_count": 29,
   "id": "4fba981c",
   "metadata": {},
   "outputs": [
    {
     "name": "stdout",
     "output_type": "stream",
     "text": [
      "********************************************************\n",
      "\n",
      "\u001b[1m     Classification Report: Train\n",
      "\u001b[0m\n",
      "              precision    recall  f1-score   support\n",
      "\n",
      "           0       0.66      0.97      0.79      3413\n",
      "           1       0.90      0.33      0.48      2555\n",
      "\n",
      "    accuracy                           0.70      5968\n",
      "   macro avg       0.78      0.65      0.63      5968\n",
      "weighted avg       0.76      0.70      0.65      5968\n",
      "\n",
      "********************************************************\n",
      "\n",
      "\u001b[1m     Classification Report: Test\n",
      "\u001b[0m\n",
      "              precision    recall  f1-score   support\n",
      "\n",
      "           0       0.67      0.96      0.79       866\n",
      "           1       0.86      0.33      0.48       626\n",
      "\n",
      "    accuracy                           0.70      1492\n",
      "   macro avg       0.76      0.65      0.63      1492\n",
      "weighted avg       0.75      0.70      0.66      1492\n",
      "\n",
      "********************************************************\n",
      "\n"
     ]
    },
    {
     "data": {
      "image/png": "[encoded data removed]",
      "text/plain": [
       "<Figure size 1296x432 with 4 Axes>"
      ]
     },
     "metadata": {
      "needs_background": "light"
     },
     "output_type": "display_data"
    }
   ],
   "source": [
    "rf_pipe = Pipeline([('rb', RobustScaler()),\n",
    "                    ('RF', RandomForestClassifier(random_state=40521))])\n",
    "rf_grid = [{'RF__max_depth': [2,11],\n",
    "            'RF__min_samples_split': [3,7],\n",
    "            'RF__min_samples_leaf': [3,7],\n",
    "            'RF__oob_score': [True,False],\n",
    "           }]\n",
    "gs_rf = GridSearchCV(estimator = rf_pipe,\n",
    "                     param_grid = rf_grid,\n",
    "                     scoring = 'f1_weighted',\n",
    "                     cv = 3)\n",
    "gsrf_model = run_class_model(gs_rf, X_train_r, y_train_r, X_test_r, y_test_r)"
   ]
  },
  {
   "cell_type": "code",
   "execution_count": 30,
   "id": "60f00373",
   "metadata": {},
   "outputs": [
    {
     "data": {
      "text/plain": [
       "{'RF__max_depth': 11,\n",
       " 'RF__min_samples_leaf': 7,\n",
       " 'RF__min_samples_split': 3,\n",
       " 'RF__oob_score': True}"
      ]
     },
     "execution_count": 30,
     "metadata": {},
     "output_type": "execute_result"
    }
   ],
   "source": [
    "gsrf_model.best_params_"
   ]
  },
  {
   "cell_type": "code",
   "execution_count": 31,
   "id": "5415c644",
   "metadata": {},
   "outputs": [
    {
     "data": {
      "text/plain": [
       "0.6580925996757726"
      ]
     },
     "execution_count": 31,
     "metadata": {},
     "output_type": "execute_result"
    }
   ],
   "source": [
    "f1_score(y_test_r,gsrf_model.predict(X_test_r), pos_label=1, average='weighted')"
   ]
  },
  {
   "cell_type": "markdown",
   "id": "72bf0f92",
   "metadata": {},
   "source": [
    "# Model 5 - ADA Boost"
   ]
  },
  {
   "cell_type": "code",
   "execution_count": null,
   "id": "110f6cf1",
   "metadata": {},
   "outputs": [],
   "source": [
    "ada_pipe = Pipeline([('rb', RobustScaler()),\n",
    "                    ('ada', AdaBoostClassifier(random_state=40521))])\n",
    "ada_grid = [{'ada__learning_rate': [1.5,1.0],\n",
    "             'ada__n_estimators': [100,50]\n",
    "           }]\n",
    "gs_ada = GridSearchCV(estimator = ada_pipe,\n",
    "                     param_grid = ada_grid,\n",
    "                     scoring = 'f1_weighted',\n",
    "                     cv = 3)\n",
    "\n",
    "gsada_model = run_class_model(gs_ada, X_train_r, y_train_r, X_test_r, y_test_r)"
   ]
  },
  {
   "cell_type": "code",
   "execution_count": null,
   "id": "ac207c22",
   "metadata": {},
   "outputs": [],
   "source": [
    "gsada_model.best_params_"
   ]
  },
  {
   "cell_type": "code",
   "execution_count": null,
   "id": "5fccdad0",
   "metadata": {},
   "outputs": [],
   "source": [
    "f1_score(y_test_r,gsada_model.predict(X_test_r), pos_label=1, average='weighted')"
   ]
  },
  {
   "cell_type": "markdown",
   "id": "33128e24",
   "metadata": {},
   "source": [
    "# Model 6 - Gradient Boost"
   ]
  },
  {
   "cell_type": "code",
   "execution_count": null,
   "id": "3aa537e2",
   "metadata": {},
   "outputs": [],
   "source": [
    "gra_pipe = Pipeline([('rb', RobustScaler()),\n",
    "                    ('gra', GradientBoostingClassifier(random_state=40521,subsample=.65))])\n",
    "gra_grid = [{'gra__learning_rate': [1.5,1.0],\n",
    "             'gra__n_estimators': [150,100,50]\n",
    "           }]\n",
    "gs_gra = GridSearchCV(estimator = gra_pipe,\n",
    "                     param_grid = gra_grid,\n",
    "                     scoring = 'f1_weighted',\n",
    "                     cv = 3)\n",
    "\n",
    "gsgra_model = run_class_model(gs_gra, X_train_r, y_train_r, X_test_r, y_test_r)"
   ]
  },
  {
   "cell_type": "code",
   "execution_count": null,
   "id": "9398d87d",
   "metadata": {},
   "outputs": [],
   "source": [
    "gsgra_model.best_params_"
   ]
  },
  {
   "cell_type": "code",
   "execution_count": null,
   "id": "7ab8c299",
   "metadata": {},
   "outputs": [],
   "source": [
    "f1_score(y_test_r,gsgra_model.predict(X_test_r), pos_label=1, average='weighted')"
   ]
  },
  {
   "cell_type": "markdown",
   "id": "780864ff",
   "metadata": {},
   "source": [
    "# Model 7 - XG Boost"
   ]
  },
  {
   "cell_type": "code",
   "execution_count": null,
   "id": "560d4c64",
   "metadata": {},
   "outputs": [],
   "source": [
    "test_xg_pipe = Pipeline([('rb', RobustScaler()),\n",
    "                    ('xg', xgb.XGBClassifier(random_state=40521,\n",
    "                                             min_child_weight=3,subsample=.65))])\n",
    "\n",
    "test_xg_grid = [{'xg__learning_rate': [2,1.5,1.0],\n",
    "                 'xg__n_estimators': [150,100,50],\n",
    "                 'xg__gamma': [.5,1,2],\n",
    "                 'xg__max_depth': [1,2],\n",
    "                 'xg__colsample_bytree': [.6,.7],\n",
    "                }]\n",
    "\n",
    "gs_xg_test = GridSearchCV(estimator = test_xg_pipe,\n",
    "                     param_grid = test_xg_grid,\n",
    "                     scoring = 'f1_weighted',\n",
    "                     cv = 3)\n",
    "\n",
    "gsxg_model = run_class_model(gs_xg_test, X_train_r, y_train_r, X_test_r, y_test_r)"
   ]
  },
  {
   "cell_type": "code",
   "execution_count": null,
   "id": "271b13f9",
   "metadata": {},
   "outputs": [],
   "source": [
    "gsxg_model.best_params_"
   ]
  },
  {
   "cell_type": "code",
   "execution_count": null,
   "id": "c6e8fd91",
   "metadata": {},
   "outputs": [],
   "source": [
    "f1_score(y_test_r,gsxg_model.predict(X_test_r), pos_label=1,average='weighted')"
   ]
  },
  {
   "cell_type": "markdown",
   "id": "4ea4627d",
   "metadata": {},
   "source": [
    "# Model 8 - Support Vector Machines"
   ]
  },
  {
   "cell_type": "code",
   "execution_count": null,
   "id": "ab5de9f4",
   "metadata": {},
   "outputs": [],
   "source": [
    "svm_pipe = Pipeline([('mms',MinMaxScaler(feature_range=(-1,1))),\n",
    "                     ('ss', StandardScaler()),\n",
    "                     ('svm', SVC(random_state=40521))])\n",
    "svm_grid = [{'svm__C': [1.5,1.0,.5],\n",
    "             'svm__gamma': ['scale','auto'],\n",
    "             'svm__kernel': ['linear','poly','rbf','sigmoid'],\n",
    "           }]\n",
    "\n",
    "gs_svm = GridSearchCV(estimator = svm_pipe,\n",
    "                     param_grid = svm_grid,\n",
    "                     scoring = 'f1_weighted',\n",
    "                     cv = 3)\n",
    "gssvm_model = run_class_model(gs_svm, X_train_r, y_train_r, X_test_r, y_test_r)"
   ]
  },
  {
   "cell_type": "code",
   "execution_count": null,
   "id": "51513746",
   "metadata": {},
   "outputs": [],
   "source": [
    "gssvm_model.best_params_"
   ]
  },
  {
   "cell_type": "code",
   "execution_count": null,
   "id": "b82a6a78",
   "metadata": {},
   "outputs": [],
   "source": [
    "f1_score(y_test_r,gssvm_model.predict(X_test_r), pos_label=1,average='weighted')"
   ]
  },
  {
   "cell_type": "markdown",
   "id": "b563644a",
   "metadata": {},
   "source": [
    "# Table of Classification Results"
   ]
  },
  {
   "cell_type": "code",
   "execution_count": null,
   "id": "0670f436",
   "metadata": {},
   "outputs": [],
   "source": [
    "all_models = [gslog_model,gsknn_model,gnb_model,gsrf_model,\n",
    "              gsada_model,gsgra_model,gsxg_model,gssvm_model]\n",
    "model_names = ['Logistic Regression',\n",
    "               'K Nearest Neighbors',\n",
    "               'Gaussian Naive Bayes',\n",
    "               'Random Forest',\n",
    "               'ADA Boost',\n",
    "               'Gradient Boost',\n",
    "               'XG Boost',\n",
    "               'Support Vector Machines'\n",
    "              ]\n",
    "\n",
    "model_table = pd.DataFrame({\"Models\": model_names})\n",
    "model_table['F1 Score'] = [round(f1_score(y_test_r,all_models[m].predict(X_test_r),\n",
    "                                          pos_label='CONFIRMED', average='weighted'),4) \n",
    "                                           for m in range(len(all_models))]\n",
    "model_table['Accuracy'] = [round(accuracy_score(y_test_r,all_models[m].predict(X_test_r)),4)\n",
    "                           for m in range(len(all_models))]\n",
    "model_table['Precision'] = [round(precision_score(y_test_r,all_models[m].predict(X_test_r),\n",
    "                                                  pos_label='CONFIRMED'),4) \n",
    "                                                    for m in range(len(all_models))]\n",
    "model_table['Recall'] = [round(recall_score(y_test_r,all_models[m].predict(X_test_r),\n",
    "                                            pos_label='CONFIRMED'),4) \n",
    "                                             for m in range(len(all_models))]\n",
    "model_table.sort_values(by=\"F1 Score\")"
   ]
  },
  {
   "cell_type": "markdown",
   "id": "e815a14b",
   "metadata": {},
   "source": [
    "# Best Model"
   ]
  },
  {
   "cell_type": "code",
   "execution_count": null,
   "id": "cbc91bb0",
   "metadata": {},
   "outputs": [],
   "source": []
  }
 ],
 "metadata": {
  "kernelspec": {
   "display_name": "Python 3 (ipykernel)",
   "language": "python",
   "name": "python3"
  },
  "language_info": {
   "codemirror_mode": {
    "name": "ipython",
    "version": 3
   },
   "file_extension": ".py",
   "mimetype": "text/x-python",
   "name": "python",
   "nbconvert_exporter": "python",
   "pygments_lexer": "ipython3",
   "version": "3.7.13"
  },
  "toc": {
   "base_numbering": 1,
   "nav_menu": {},
   "number_sections": true,
   "sideBar": true,
   "skip_h1_title": false,
   "title_cell": "Table of Contents",
   "title_sidebar": "Contents",
   "toc_cell": false,
   "toc_position": {},
   "toc_section_display": true,
   "toc_window_display": true
  },
  "varInspector": {
   "cols": {
    "lenName": 16,
    "lenType": 16,
    "lenVar": 40
   },
   "kernels_config": {
    "python": {
     "delete_cmd_postfix": "",
     "delete_cmd_prefix": "del ",
     "library": "var_list.py",
     "varRefreshCmd": "print(var_dic_list())"
    },
    "r": {
     "delete_cmd_postfix": ") ",
     "delete_cmd_prefix": "rm(",
     "library": "var_list.r",
     "varRefreshCmd": "cat(var_dic_list()) "
    }
   },
   "types_to_exclude": [
    "module",
    "function",
    "builtin_function_or_method",
    "instance",
    "_Feature"
   ],
   "window_display": false
  }
 },
 "nbformat": 4,
 "nbformat_minor": 5
}
