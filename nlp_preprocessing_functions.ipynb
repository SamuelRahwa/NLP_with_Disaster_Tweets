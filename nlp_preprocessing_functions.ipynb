{
 "cells": [
  {
   "cell_type": "code",
   "execution_count": 1,
   "id": "6b228e83",
   "metadata": {
    "ExecuteTime": {
     "end_time": "2022-06-21T20:46:41.463663Z",
     "start_time": "2022-06-21T20:46:34.986015Z"
    },
    "scrolled": false
   },
   "outputs": [
    {
     "name": "stderr",
     "output_type": "stream",
     "text": [
      "/Users/sammy/opt/anaconda3/envs/NLP_Diaster_Tweets_June2022/lib/python3.7/site-packages/tqdm/auto.py:22: TqdmWarning: IProgress not found. Please update jupyter and ipywidgets. See https://ipywidgets.readthedocs.io/en/stable/user_install.html\n",
      "  from .autonotebook import tqdm as notebook_tqdm\n",
      "[nltk_data] Downloading package wordnet to /Users/sammy/nltk_data...\n",
      "[nltk_data]   Package wordnet is already up-to-date!\n",
      "[nltk_data] Downloading package stopwords to /Users/sammy/nltk_data...\n",
      "[nltk_data]   Package stopwords is already up-to-date!\n"
     ]
    },
    {
     "data": {
      "text/plain": [
       "True"
      ]
     },
     "execution_count": 1,
     "metadata": {},
     "output_type": "execute_result"
    }
   ],
   "source": [
    "import pandas as pd\n",
    "import numpy as np\n",
    "import json\n",
    "\n",
    "import plotly.express as px\n",
    "import plotly.graph_objects as go\n",
    "\n",
    "import matplotlib\n",
    "import matplotlib.pyplot as plt\n",
    "%matplotlib inline \n",
    "plt.style.use('ggplot')\n",
    "from matplotlib.pyplot import figure\n",
    "matplotlib.rcParams['figure.figsize'] = (22,10)\n",
    "plt.rcParams.update({'font.size': 18})\n",
    "\n",
    "import seaborn as sns \n",
    "sns.set_style('darkgrid')\n",
    "\n",
    "from collections import Counter\n",
    "from wordcloud import WordCloud\n",
    "\n",
    "import nltk, spacy, re, string, unicodedata, contractions\n",
    "\n",
    "from spacy_langdetect import LanguageDetector\n",
    "from spacy.language import Language\n",
    "from scispacy.abbreviation import AbbreviationDetector\n",
    "\n",
    "import pkg_resources\n",
    "from symspellpy import SymSpell, Verbosity\n",
    "\n",
    "\n",
    "from nltk import word_tokenize, sent_tokenize, FreqDist\n",
    "from nltk.tokenize import TweetTokenizer\n",
    "from nltk.corpus import stopwords\n",
    "from nltk.stem import LancasterStemmer, WordNetLemmatizer\n",
    "\n",
    "from bs4 import BeautifulSoup\n",
    "import preprocessor as p \n",
    "\n",
    "nltk.download\n",
    "nltk.download('wordnet')\n",
    "nltk.download('stopwords')"
   ]
  },
  {
   "cell_type": "markdown",
   "id": "ae368b64",
   "metadata": {},
   "source": [
    "# Cleaning"
   ]
  },
  {
   "cell_type": "code",
   "execution_count": 2,
   "id": "ea42f3ce",
   "metadata": {
    "ExecuteTime": {
     "end_time": "2022-06-21T20:46:41.484288Z",
     "start_time": "2022-06-21T20:46:41.481689Z"
    }
   },
   "outputs": [],
   "source": [
    "# Preprocessing Functions"
   ]
  },
  {
   "cell_type": "code",
   "execution_count": 3,
   "id": "ba1337ea",
   "metadata": {
    "ExecuteTime": {
     "end_time": "2022-06-21T20:46:49.812720Z",
     "start_time": "2022-06-21T20:46:41.499852Z"
    }
   },
   "outputs": [],
   "source": [
    "nlp = spacy.load(\"en_core_web_lg\", disable = [\"parser\", \"ner\"])\n",
    "\n",
    "\n",
    "\n",
    "sym_spell = SymSpell(max_dictionary_edit_distance = 3, prefix_length = 7)\n",
    "\n",
    "dictionary_path = pkg_resources.resource_filename(\"symspellpy\", \n",
    "                                                  \"frequency_dictionary_en_82_765.txt\")\n",
    "\n",
    "# term_index is the column of the term and count_index is the\n",
    "# column of the term frequency\n",
    "\n",
    "sym_spell.load_dictionary(dictionary_path, term_index = 0, count_index = 1)\n",
    "\n",
    "\n",
    "\n",
    "def to_lowercase(text):\n",
    "    return text.lower()\n",
    "\n",
    "def remove_html_tags(text):\n",
    "    return BeautifulSoup(text, 'html.parser').get_text()\n",
    "\n",
    "def standardize_accented_chars(text):\n",
    "    return unicodedata.normalize('NFKD', text).encode('ascii', 'ignore').decode('utf-8', 'ignore')\n",
    "\n",
    "def remove_url(text):\n",
    "    return re.sub(r'https?:\\S*', ' ', text)\n",
    "\n",
    "def expand_contractions(text):\n",
    "    expanded_words = [] \n",
    "    for word in text.split():\n",
    "        expanded_words.append(contractions.fix(word)) \n",
    "    return ' '.join(expanded_words)\n",
    "\n",
    "def remove_mentions_and_tags(text):\n",
    "    text = re.sub(r'@\\S*', ' ', text)\n",
    "    return re.sub(r'#\\S*', ' ', text)\n",
    "\n",
    "def remove_special_characters(text):\n",
    "    # define the pattern to keep\n",
    "    pat = r'[^a-zA-z0-9.,!?/:;\\\"\\'\\s]'\n",
    "    return re.sub(pat, ' ', text)\n",
    "\n",
    "def remove_numbers(text):\n",
    "    pattern = r'[^a-zA-z.,!?/:;\\\"\\'\\s]' \n",
    "    return re.sub(pattern, ' ', text)\n",
    "\n",
    "def remove_punctuation(text):\n",
    "    return ''.join([c for c in text if c not in string.punctuation])\n",
    "\n",
    "def spell_checker(text):\n",
    "    \n",
    "    clean_text = []\n",
    "    \n",
    "    for word in text.split():\n",
    "        suggestion = sym_spell.lookup(word, Verbosity.CLOSEST, include_unknown = True)\n",
    "        clean_text.append(suggestion[0].term)\n",
    "    return ' '.join(clean_text)\n",
    "\n",
    "def remove_stopwords(text): \n",
    "    \n",
    "    filtered_sentence = [] \n",
    "    \n",
    "    doc = nlp(text)\n",
    "    \n",
    "    for token in doc:\n",
    "        if token.is_stop == False:\n",
    "            filtered_sentence.append(token.text)   \n",
    "            \n",
    "    return ' '.join(filtered_sentence)\n",
    "\n",
    "\n",
    "def lemmatize(text):\n",
    "    \n",
    "    doc = nlp(text)\n",
    "    \n",
    "    lemmatized_text = []\n",
    "    \n",
    "    for token in doc:\n",
    "        lemmatized_text.append(token.lemma_)\n",
    "        \n",
    "    return ' '.join(lemmatized_text)"
   ]
  },
  {
   "cell_type": "markdown",
   "id": "ff1d65fb",
   "metadata": {},
   "source": [
    "# Primary Processing Function"
   ]
  },
  {
   "cell_type": "code",
   "execution_count": 4,
   "id": "b59d3160",
   "metadata": {
    "ExecuteTime": {
     "end_time": "2022-06-21T20:46:49.833891Z",
     "start_time": "2022-06-21T20:46:49.829924Z"
    }
   },
   "outputs": [],
   "source": [
    "def text_preprocesser_nlp(text):\n",
    "    \n",
    "    clean = text\n",
    "    clean = to_lowercase(clean)\n",
    "    clean = remove_html_tags(clean)\n",
    "    clean = standardize_accented_chars(clean)\n",
    "    clean = remove_url(clean)\n",
    "    clean = expand_contractions(clean)\n",
    "    clean = remove_mentions_and_tags(clean)\n",
    "    clean = remove_special_characters(clean)\n",
    "    clean = remove_numbers(clean)\n",
    "    clean = remove_punctuation(clean)\n",
    "    clean = spell_checker(clean)\n",
    "    clean = remove_stopwords(clean)\n",
    "    clean = lemmatize(clean)\n",
    "    \n",
    "    return clean"
   ]
  },
  {
   "cell_type": "markdown",
   "id": "42e7a6f4",
   "metadata": {
    "ExecuteTime": {
     "end_time": "2022-06-21T20:46:49.866641Z",
     "start_time": "2022-06-21T20:46:49.862523Z"
    }
   },
   "source": [
    "# Additonal Cleaning: Removing low occurrence words (<5)"
   ]
  },
  {
   "cell_type": "code",
   "execution_count": 6,
   "id": "9edb1123",
   "metadata": {
    "ExecuteTime": {
     "end_time": "2022-06-21T20:46:49.907227Z",
     "start_time": "2022-06-21T20:46:49.897922Z"
    }
   },
   "outputs": [
    {
     "ename": "SyntaxError",
     "evalue": "invalid syntax (98115436.py, line 1)",
     "output_type": "error",
     "traceback": [
      "\u001b[0;36m  File \u001b[0;32m\"/var/folders/ts/b7rsykhn1tjd3knrgl56dqs40000gn/T/ipykernel_94517/98115436.py\"\u001b[0;36m, line \u001b[0;32m1\u001b[0m\n\u001b[0;31m    def low_occurence_words(text)\u001b[0m\n\u001b[0m                                 ^\u001b[0m\n\u001b[0;31mSyntaxError\u001b[0m\u001b[0;31m:\u001b[0m invalid syntax\n"
     ]
    }
   ],
   "source": [
    "def low_occurence_words(text)\n",
    "    freq = pd.Series(' '.join(data['text']).split()).value_counts()\n",
    "    low_freq = list(freq.loc[freq < 10].index)\n",
    "    return data['text'] = data['text'].apply(lambda x: \" \".join(x for x in x.split() if x not in low_freq))"
   ]
  }
 ],
 "metadata": {
  "kernelspec": {
   "display_name": "Python 3 (ipykernel)",
   "language": "python",
   "name": "python3"
  },
  "language_info": {
   "codemirror_mode": {
    "name": "ipython",
    "version": 3
   },
   "file_extension": ".py",
   "mimetype": "text/x-python",
   "name": "python",
   "nbconvert_exporter": "python",
   "pygments_lexer": "ipython3",
   "version": "3.7.13"
  },
  "toc": {
   "base_numbering": 1,
   "nav_menu": {},
   "number_sections": true,
   "sideBar": true,
   "skip_h1_title": false,
   "title_cell": "Table of Contents",
   "title_sidebar": "Contents",
   "toc_cell": false,
   "toc_position": {
    "height": "calc(100% - 180px)",
    "left": "10px",
    "top": "150px",
    "width": "300px"
   },
   "toc_section_display": true,
   "toc_window_display": true
  },
  "varInspector": {
   "cols": {
    "lenName": 16,
    "lenType": 16,
    "lenVar": 40
   },
   "kernels_config": {
    "python": {
     "delete_cmd_postfix": "",
     "delete_cmd_prefix": "del ",
     "library": "var_list.py",
     "varRefreshCmd": "print(var_dic_list())"
    },
    "r": {
     "delete_cmd_postfix": ") ",
     "delete_cmd_prefix": "rm(",
     "library": "var_list.r",
     "varRefreshCmd": "cat(var_dic_list()) "
    }
   },
   "types_to_exclude": [
    "module",
    "function",
    "builtin_function_or_method",
    "instance",
    "_Feature"
   ],
   "window_display": false
  }
 },
 "nbformat": 4,
 "nbformat_minor": 5
}
