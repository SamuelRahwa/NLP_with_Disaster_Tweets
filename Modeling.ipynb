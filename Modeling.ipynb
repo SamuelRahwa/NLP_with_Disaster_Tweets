{
 "cells": [
  {
   "cell_type": "code",
   "execution_count": 1,
   "id": "c1b9593e",
   "metadata": {},
   "outputs": [],
   "source": [
    "# Imports\n",
    "from Functions import *\n",
    "%matplotlib inline\n"
   ]
  },
  {
   "cell_type": "code",
   "execution_count": null,
   "id": "eff96972",
   "metadata": {},
   "outputs": [],
   "source": [
    "# Import Data Here:"
   ]
  },
  {
   "cell_type": "code",
   "execution_count": null,
   "id": "929bc743",
   "metadata": {},
   "outputs": [],
   "source": []
  },
  {
   "cell_type": "markdown",
   "id": "45ac1340",
   "metadata": {},
   "source": [
    "# Model 1 - Logistic Regression"
   ]
  },
  {
   "cell_type": "code",
   "execution_count": null,
   "id": "64c8aff3",
   "metadata": {},
   "outputs": [],
   "source": [
    "log_pipe = Pipeline([('ss', StandardScaler()),\n",
    "                     ('log', LogisticRegression(random_state=40521))])\n",
    "log_grid = [{'log__C': [0,10],\n",
    "             'log__solver': ['newton-cg','sag','saga','lbfgs','liblinear']}]\n",
    "\n",
    "gslog_model = run_class_model(log_gridsearch, X_train_r, y_train_r, X_test_r, y_test_r)"
   ]
  },
  {
   "cell_type": "code",
   "execution_count": null,
   "id": "ae2f20af",
   "metadata": {},
   "outputs": [],
   "source": [
    "gslog_model.best_params_"
   ]
  },
  {
   "cell_type": "code",
   "execution_count": null,
   "id": "82481619",
   "metadata": {},
   "outputs": [],
   "source": [
    "f1_score(y_test_r, gslog_model.predict(X_test_r), pos_label=1,average='weighted')"
   ]
  },
  {
   "cell_type": "markdown",
   "id": "714c0761",
   "metadata": {},
   "source": [
    "# Model 2 - K Nearest Neighbors"
   ]
  },
  {
   "cell_type": "code",
   "execution_count": null,
   "id": "badaecb5",
   "metadata": {},
   "outputs": [],
   "source": [
    "\n",
    "knn_pipe = Pipeline([('rb', RobustScaler()),\n",
    "                     ('knn', KNeighborsClassifier())])\n",
    "knn_grid = [{'knn__n_neighbors': [3,5],\n",
    "             'knn__weights' : ['uniform', 'distance'],\n",
    "             'knn__leaf_size': [40,50]           \n",
    "            }]\n",
    "\n",
    "knn_gridsearch = GridSearchCV(estimator=knn_pipe,\n",
    "                              param_grid=knn_grid,\n",
    "                              scoring='f1_weighted',\n",
    "                              cv=5)\n",
    "\n",
    "gsknn_model = run_class_model(knn_gridsearch, X_train_r, y_train_r, X_test_r, y_test_r)"
   ]
  },
  {
   "cell_type": "code",
   "execution_count": null,
   "id": "b9d4c059",
   "metadata": {},
   "outputs": [],
   "source": [
    "gsknn_model.best_params_"
   ]
  },
  {
   "cell_type": "code",
   "execution_count": null,
   "id": "d1642488",
   "metadata": {},
   "outputs": [],
   "source": [
    "f1_score(y_test_r, gsknn_model.predict(X_test_r), pos_label=1,average='weighted')"
   ]
  },
  {
   "cell_type": "markdown",
   "id": "06eacbfe",
   "metadata": {},
   "source": [
    "# Model 3 - Gaussian Naive Bayes"
   ]
  },
  {
   "cell_type": "code",
   "execution_count": null,
   "id": "b846aae5",
   "metadata": {},
   "outputs": [],
   "source": [
    "# Gridsearch on GNB?"
   ]
  },
  {
   "cell_type": "code",
   "execution_count": null,
   "id": "22324a4a",
   "metadata": {},
   "outputs": [],
   "source": [
    "gnb_pipe = Pipeline([('ss', StandardScaler()),\n",
    "                     ('gnb', GaussianNB())])\n",
    "gnb_model = run_class_model(gnb_pipe, X_train_r, y_train_r, X_test_r, y_test_r)"
   ]
  },
  {
   "cell_type": "code",
   "execution_count": null,
   "id": "ad73f715",
   "metadata": {},
   "outputs": [],
   "source": [
    "f1_score(y_test_r, gnb_model.predict(X_test_r), pos_label=1,average='weighted')"
   ]
  },
  {
   "cell_type": "markdown",
   "id": "2f3578a0",
   "metadata": {},
   "source": [
    "# Model 4 - Random Forest Classifier"
   ]
  },
  {
   "cell_type": "code",
   "execution_count": null,
   "id": "4fba981c",
   "metadata": {},
   "outputs": [],
   "source": [
    "rf_pipe = Pipeline([('rb', RobustScaler()),\n",
    "                    ('RF', RandomForestClassifier(random_state=40521))])\n",
    "rf_grid = [{'RF__max_depth': [2,11],\n",
    "            'RF__min_samples_split': [3,7],\n",
    "            'RF__min_samples_leaf': [3,7],\n",
    "            'RF__oob_score': [True,False],\n",
    "           }]\n",
    "gs_rf = GridSearchCV(estimator = rf_pipe,\n",
    "                     param_grid = rf_grid,\n",
    "                     scoring = 'f1_weighted',\n",
    "                     cv = 3)\n",
    "gsrf_model = run_class_model(gs_rf, X_train_r, y_train_r, X_test_r, y_test_r)"
   ]
  },
  {
   "cell_type": "code",
   "execution_count": null,
   "id": "60f00373",
   "metadata": {},
   "outputs": [],
   "source": [
    "gsrf_model.best_params_"
   ]
  },
  {
   "cell_type": "code",
   "execution_count": null,
   "id": "5415c644",
   "metadata": {},
   "outputs": [],
   "source": [
    "f1_score(y_test_r,gsrf_model.predict(X_test_r), pos_label=1, average='weighted')"
   ]
  },
  {
   "cell_type": "markdown",
   "id": "72bf0f92",
   "metadata": {},
   "source": [
    "# Model 5 - ADA Boost"
   ]
  },
  {
   "cell_type": "code",
   "execution_count": null,
   "id": "110f6cf1",
   "metadata": {},
   "outputs": [],
   "source": [
    "ada_pipe = Pipeline([('rb', RobustScaler()),\n",
    "                    ('ada', AdaBoostClassifier(random_state=40521))])\n",
    "ada_grid = [{'ada__learning_rate': [1.5,1.0],\n",
    "             'ada__n_estimators': [100,50]\n",
    "           }]\n",
    "gs_ada = GridSearchCV(estimator = ada_pipe,\n",
    "                     param_grid = ada_grid,\n",
    "                     scoring = 'f1_weighted',\n",
    "                     cv = 3)\n",
    "\n",
    "gsada_model = run_class_model(gs_ada, X_train_r, y_train_r, X_test_r, y_test_r)"
   ]
  },
  {
   "cell_type": "code",
   "execution_count": null,
   "id": "ac207c22",
   "metadata": {},
   "outputs": [],
   "source": [
    "gsada_model.best_params_"
   ]
  },
  {
   "cell_type": "code",
   "execution_count": null,
   "id": "5fccdad0",
   "metadata": {},
   "outputs": [],
   "source": [
    "f1_score(y_test_r,gsada_model.predict(X_test_r), pos_label=1, average='weighted')"
   ]
  },
  {
   "cell_type": "markdown",
   "id": "33128e24",
   "metadata": {},
   "source": [
    "# Model 6 - Gradient Boost"
   ]
  },
  {
   "cell_type": "code",
   "execution_count": null,
   "id": "3aa537e2",
   "metadata": {},
   "outputs": [],
   "source": [
    "gra_pipe = Pipeline([('rb', RobustScaler()),\n",
    "                    ('gra', GradientBoostingClassifier(random_state=40521,subsample=.65))])\n",
    "gra_grid = [{'gra__learning_rate': [1.5,1.0],\n",
    "             'gra__n_estimators': [150,100,50]\n",
    "           }]\n",
    "gs_gra = GridSearchCV(estimator = gra_pipe,\n",
    "                     param_grid = gra_grid,\n",
    "                     scoring = 'f1_weighted',\n",
    "                     cv = 3)\n",
    "\n",
    "gsgra_model = run_class_model(gs_gra, X_train_r, y_train_r, X_test_r, y_test_r)"
   ]
  },
  {
   "cell_type": "code",
   "execution_count": null,
   "id": "9398d87d",
   "metadata": {},
   "outputs": [],
   "source": [
    "gsgra_model.best_params_"
   ]
  },
  {
   "cell_type": "code",
   "execution_count": null,
   "id": "7ab8c299",
   "metadata": {},
   "outputs": [],
   "source": [
    "f1_score(y_test_r,gsgra_model.predict(X_test_r), pos_label=1, average='weighted')"
   ]
  },
  {
   "cell_type": "markdown",
   "id": "780864ff",
   "metadata": {},
   "source": [
    "# Model 7 - XG Boost"
   ]
  },
  {
   "cell_type": "code",
   "execution_count": null,
   "id": "560d4c64",
   "metadata": {},
   "outputs": [],
   "source": [
    "test_xg_pipe = Pipeline([('rb', RobustScaler()),\n",
    "                    ('xg', xgb.XGBClassifier(random_state=40521,\n",
    "                                             min_child_weight=3,subsample=.65))])\n",
    "\n",
    "test_xg_grid = [{'xg__learning_rate': [2,1.5,1.0],\n",
    "                 'xg__n_estimators': [150,100,50],\n",
    "                 'xg__gamma': [.5,1,2],\n",
    "                 'xg__max_depth': [1,2],\n",
    "                 'xg__colsample_bytree': [.6,.7],\n",
    "                }]\n",
    "\n",
    "gs_xg_test = GridSearchCV(estimator = test_xg_pipe,\n",
    "                     param_grid = test_xg_grid,\n",
    "                     scoring = 'f1_weighted',\n",
    "                     cv = 3)\n",
    "\n",
    "gsxg_model = run_class_model(gs_xg_test, X_train_r, y_train_r, X_test_r, y_test_r)"
   ]
  },
  {
   "cell_type": "code",
   "execution_count": null,
   "id": "271b13f9",
   "metadata": {},
   "outputs": [],
   "source": [
    "gsxg_model.best_params_"
   ]
  },
  {
   "cell_type": "code",
   "execution_count": null,
   "id": "c6e8fd91",
   "metadata": {},
   "outputs": [],
   "source": [
    "f1_score(y_test_r,gsxg_model.predict(X_test_r), pos_label=1,average='weighted')"
   ]
  },
  {
   "cell_type": "markdown",
   "id": "4ea4627d",
   "metadata": {},
   "source": [
    "# Model 8 - Support Vector Machines"
   ]
  },
  {
   "cell_type": "code",
   "execution_count": null,
   "id": "ab5de9f4",
   "metadata": {},
   "outputs": [],
   "source": [
    "svm_pipe = Pipeline([('mms',MinMaxScaler(feature_range=(-1,1))),\n",
    "                     ('ss', StandardScaler()),\n",
    "                     ('svm', SVC(random_state=40521))])\n",
    "svm_grid = [{'svm__C': [1.5,1.0,.5],\n",
    "             'svm__gamma': ['scale','auto'],\n",
    "             'svm__kernel': ['linear','poly','rbf','sigmoid'],\n",
    "           }]\n",
    "\n",
    "gs_svm = GridSearchCV(estimator = svm_pipe,\n",
    "                     param_grid = svm_grid,\n",
    "                     scoring = 'f1_weighted',\n",
    "                     cv = 3)\n",
    "gssvm_model = run_class_model(gs_svm, X_train_r, y_train_r, X_test_r, y_test_r)"
   ]
  },
  {
   "cell_type": "code",
   "execution_count": null,
   "id": "51513746",
   "metadata": {},
   "outputs": [],
   "source": [
    "gssvm_model.best_params_"
   ]
  },
  {
   "cell_type": "code",
   "execution_count": null,
   "id": "b82a6a78",
   "metadata": {},
   "outputs": [],
   "source": [
    "f1_score(y_test_r,gssvm_model.predict(X_test_r), pos_label=1,average='weighted')"
   ]
  },
  {
   "cell_type": "markdown",
   "id": "b563644a",
   "metadata": {},
   "source": [
    "# Table of Classification Results"
   ]
  },
  {
   "cell_type": "code",
   "execution_count": null,
   "id": "0670f436",
   "metadata": {},
   "outputs": [],
   "source": [
    "all_models = [gslog_model,gsknn_model,gnb_model,gsrf_model,\n",
    "              gsada_model,gsgra_model,gsxg_model,gssvm_model]\n",
    "model_names = ['Logistic Regression',\n",
    "               'K Nearest Neighbors',\n",
    "               'Gaussian Naive Bayes',\n",
    "               'Random Forest',\n",
    "               'ADA Boost',\n",
    "               'Gradient Boost',\n",
    "               'XG Boost',\n",
    "               'Support Vector Machines'\n",
    "              ]\n",
    "\n",
    "model_table = pd.DataFrame({\"Models\": model_names})\n",
    "model_table['F1 Score'] = [round(f1_score(y_test_r,all_models[m].predict(X_test_r),\n",
    "                                          pos_label='CONFIRMED', average='weighted'),4) \n",
    "                                           for m in range(len(all_models))]\n",
    "model_table['Accuracy'] = [round(accuracy_score(y_test_r,all_models[m].predict(X_test_r)),4)\n",
    "                           for m in range(len(all_models))]\n",
    "model_table['Precision'] = [round(precision_score(y_test_r,all_models[m].predict(X_test_r),\n",
    "                                                  pos_label='CONFIRMED'),4) \n",
    "                                                    for m in range(len(all_models))]\n",
    "model_table['Recall'] = [round(recall_score(y_test_r,all_models[m].predict(X_test_r),\n",
    "                                            pos_label='CONFIRMED'),4) \n",
    "                                             for m in range(len(all_models))]\n",
    "model_table.sort_values(by=\"F1 Score\")"
   ]
  },
  {
   "cell_type": "markdown",
   "id": "e815a14b",
   "metadata": {},
   "source": [
    "# Best Model"
   ]
  },
  {
   "cell_type": "code",
   "execution_count": null,
   "id": "cbc91bb0",
   "metadata": {},
   "outputs": [],
   "source": []
  }
 ],
 "metadata": {
  "kernelspec": {
   "display_name": "tf-gpu",
   "language": "python",
   "name": "tf-gpu"
  },
  "language_info": {
   "codemirror_mode": {
    "name": "ipython",
    "version": 3
   },
   "file_extension": ".py",
   "mimetype": "text/x-python",
   "name": "python",
   "nbconvert_exporter": "python",
   "pygments_lexer": "ipython3",
   "version": "3.8.0"
  },
  "toc": {
   "base_numbering": 1,
   "nav_menu": {},
   "number_sections": true,
   "sideBar": true,
   "skip_h1_title": false,
   "title_cell": "Table of Contents",
   "title_sidebar": "Contents",
   "toc_cell": false,
   "toc_position": {},
   "toc_section_display": true,
   "toc_window_display": true
  }
 },
 "nbformat": 4,
 "nbformat_minor": 5
}
