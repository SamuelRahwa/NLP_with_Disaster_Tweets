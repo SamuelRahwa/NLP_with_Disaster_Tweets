{
 "cells": [
  {
   "cell_type": "code",
   "execution_count": 1,
   "id": "cabdb52d",
   "metadata": {},
   "outputs": [],
   "source": [
    "import warnings\n",
    "warnings.filterwarnings(\"ignore\")\n",
    "\n",
    "import pandas as pd\n",
    "import numpy as np\n",
    "import json"
   ]
  },
  {
   "cell_type": "code",
   "execution_count": 2,
   "id": "087c2b3a",
   "metadata": {},
   "outputs": [],
   "source": [
    "import plotly.express as px\n",
    "import plotly.graph_objects as go"
   ]
  },
  {
   "cell_type": "code",
   "execution_count": 3,
   "id": "fa6afda5",
   "metadata": {},
   "outputs": [],
   "source": [
    "import matplotlib\n",
    "import matplotlib.pyplot as plt\n",
    "%matplotlib inline \n",
    "plt.style.use('ggplot')\n",
    "from matplotlib.pyplot import figure\n",
    "matplotlib.rcParams['figure.figsize'] = (22,10)\n",
    "plt.rcParams.update({'font.size': 18})"
   ]
  },
  {
   "cell_type": "code",
   "execution_count": 4,
   "id": "14a29669",
   "metadata": {},
   "outputs": [],
   "source": [
    "import seaborn as sns \n",
    "sns.set_style('darkgrid')\n"
   ]
  },
  {
   "cell_type": "code",
   "execution_count": 5,
   "id": "44f6f88f",
   "metadata": {},
   "outputs": [],
   "source": [
    "from collections import Counter\n",
    "from wordcloud import WordCloud\n",
    "\n",
    "import nltk, spacy, re, string, unicodedata, contractions"
   ]
  },
  {
   "cell_type": "code",
   "execution_count": 6,
   "id": "d8d63967",
   "metadata": {},
   "outputs": [],
   "source": [
    "from spacy_langdetect import LanguageDetector\n",
    "from spacy.language import Language\n",
    "#from scispacy.abbreviation import AbbreviationDetector"
   ]
  },
  {
   "cell_type": "code",
   "execution_count": 7,
   "id": "eed0706b",
   "metadata": {},
   "outputs": [],
   "source": [
    "import pkg_resources\n",
    "from symspellpy import SymSpell, Verbosity"
   ]
  },
  {
   "cell_type": "code",
   "execution_count": 8,
   "id": "998c24f0",
   "metadata": {},
   "outputs": [],
   "source": [
    "from nltk import word_tokenize, sent_tokenize, FreqDist\n",
    "from nltk.tokenize import TweetTokenizer\n",
    "from nltk.corpus import stopwords\n",
    "from nltk.stem import LancasterStemmer, WordNetLemmatizer"
   ]
  },
  {
   "cell_type": "code",
   "execution_count": 9,
   "id": "4b9b5caa",
   "metadata": {},
   "outputs": [],
   "source": [
    "from bs4 import BeautifulSoup\n",
    "import preprocessor as p "
   ]
  },
  {
   "cell_type": "code",
   "execution_count": 10,
   "id": "3ca2d9fe",
   "metadata": {},
   "outputs": [
    {
     "data": {
      "text/plain": [
       "True"
      ]
     },
     "execution_count": 10,
     "metadata": {},
     "output_type": "execute_result"
    }
   ],
   "source": [
    "nlp = spacy.load(\"en_core_web_lg\", disable = [\"parser\", \"ner\"])\n",
    "\n",
    "\n",
    "\n",
    "sym_spell = SymSpell(max_dictionary_edit_distance = 3, prefix_length = 7)\n",
    "\n",
    "dictionary_path = pkg_resources.resource_filename(\"symspellpy\", \n",
    "                                                  \"frequency_dictionary_en_82_765.txt\")\n",
    "\n",
    "# term_index is the column of the term and count_index is the\n",
    "# column of the term frequency\n",
    "\n",
    "sym_spell.load_dictionary(dictionary_path, term_index = 0, count_index = 1)"
   ]
  },
  {
   "cell_type": "code",
   "execution_count": 11,
   "id": "d9150107",
   "metadata": {},
   "outputs": [],
   "source": [
    "def to_lowercase(text):\n",
    "    return text.lower()\n",
    "\n",
    "def remove_html_tags(text):\n",
    "    return BeautifulSoup(text, 'html.parser').get_text()\n",
    "\n",
    "def standardize_accented_chars(text):\n",
    "    return unicodedata.normalize('NFKD', text).encode('ascii', 'ignore').decode('utf-8', 'ignore')\n",
    "\n",
    "def remove_url(text):\n",
    "    return re.sub(r'https?:\\S*', ' ', text)\n",
    "\n",
    "def expand_contractions(text):\n",
    "    expanded_words = [] \n",
    "    for word in text.split():\n",
    "        expanded_words.append(contractions.fix(word)) \n",
    "    return ' '.join(expanded_words)\n",
    "\n",
    "def remove_mentions_and_tags(text):\n",
    "    text = re.sub(r'@\\S*', ' ', text)\n",
    "    return re.sub(r'#\\S*', ' ', text)\n",
    "\n",
    "def remove_special_characters(text):\n",
    "    # define the pattern to keep\n",
    "    pat = r'[^a-zA-z0-9.,!?/:;\\\"\\'\\s]'\n",
    "    return re.sub(pat, ' ', text)\n",
    "\n",
    "def remove_numbers(text):\n",
    "    pattern = r'[^a-zA-z.,!?/:;\\\"\\'\\s]' \n",
    "    return re.sub(pattern, ' ', text)\n",
    "\n",
    "def remove_punctuation(text):\n",
    "    return ''.join([c for c in text if c not in string.punctuation])\n",
    "\n",
    "def spell_checker(text):\n",
    "    \n",
    "    clean_text = []\n",
    "    \n",
    "    for word in text.split():\n",
    "        suggestion = sym_spell.lookup(word, Verbosity.CLOSEST, include_unknown = True)\n",
    "        clean_text.append(suggestion[0].term)\n",
    "    return ' '.join(clean_text)\n",
    "\n",
    "def remove_stopwords(text): \n",
    "    \n",
    "    filtered_sentence = [] \n",
    "    \n",
    "    doc = nlp(text)\n",
    "    \n",
    "    for token in doc:\n",
    "        if token.is_stop == False:\n",
    "            filtered_sentence.append(token.text)   \n",
    "            \n",
    "    return ' '.join(filtered_sentence)\n",
    "\n",
    "\n",
    "def lemmatize(text):\n",
    "    \n",
    "    doc = nlp(text)\n",
    "    \n",
    "    lemmatized_text = []\n",
    "    \n",
    "    for token in doc:\n",
    "        lemmatized_text.append(token.lemma_)\n",
    "        \n",
    "    return ' '.join(lemmatized_text)"
   ]
  },
  {
   "cell_type": "code",
   "execution_count": 12,
   "id": "341461d8",
   "metadata": {},
   "outputs": [],
   "source": [
    "def text_preprocesser_nlp(text):\n",
    "    \n",
    "    clean = text\n",
    "    clean = to_lowercase(clean)\n",
    "    clean = remove_html_tags(clean)\n",
    "    clean = standardize_accented_chars(clean)\n",
    "    clean = remove_url(clean)\n",
    "    clean = expand_contractions(clean)\n",
    "    clean = remove_mentions_and_tags(clean)\n",
    "    clean = remove_special_characters(clean)\n",
    "    clean = remove_numbers(clean)\n",
    "    clean = remove_punctuation(clean)\n",
    "    clean = spell_checker(clean)\n",
    "    clean = remove_stopwords(clean)\n",
    "    clean = lemmatize(clean)\n",
    "    \n",
    "    return clean"
   ]
  },
  {
   "cell_type": "code",
   "execution_count": 13,
   "id": "77170dfb",
   "metadata": {},
   "outputs": [],
   "source": [
    "def low_occurence_words(text):\n",
    "    freq = pd.Series(' '.join(data['text']).split()).value_counts()\n",
    "    low_freq = list(freq.loc[freq < 10].index)\n",
    "    return data['text'].apply(lambda x: \" \".join(x for x in x.split() if x not in low_freq))"
   ]
  },
  {
   "cell_type": "code",
   "execution_count": null,
   "id": "5266776d",
   "metadata": {},
   "outputs": [],
   "source": []
  }
 ],
 "metadata": {
  "kernelspec": {
   "display_name": "Python 3 (ipykernel)",
   "language": "python",
   "name": "python3"
  },
  "language_info": {
   "codemirror_mode": {
    "name": "ipython",
    "version": 3
   },
   "file_extension": ".py",
   "mimetype": "text/x-python",
   "name": "python",
   "nbconvert_exporter": "python",
   "pygments_lexer": "ipython3",
   "version": "3.9.7"
  },
  "toc": {
   "base_numbering": 1,
   "nav_menu": {},
   "number_sections": true,
   "sideBar": true,
   "skip_h1_title": false,
   "title_cell": "Table of Contents",
   "title_sidebar": "Contents",
   "toc_cell": false,
   "toc_position": {},
   "toc_section_display": true,
   "toc_window_display": true
  }
 },
 "nbformat": 4,
 "nbformat_minor": 5
}
