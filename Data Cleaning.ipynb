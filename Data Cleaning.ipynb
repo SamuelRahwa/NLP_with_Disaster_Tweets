{
 "cells": [
  {
   "cell_type": "code",
   "execution_count": 102,
   "id": "006625c1",
   "metadata": {},
   "outputs": [],
   "source": [
    "# remove words of size 2"
   ]
  },
  {
   "cell_type": "code",
   "execution_count": 1,
   "id": "b659a51b",
   "metadata": {},
   "outputs": [],
   "source": [
    "import pandas as pd\n",
    "import numpy as np\n",
    "\n"
   ]
  },
  {
   "cell_type": "code",
   "execution_count": 92,
   "id": "44edaf63",
   "metadata": {},
   "outputs": [],
   "source": [
    "#\n",
    "import nltk\n",
    "from nltk import word_tokenize, FreqDist\n",
    "from nltk.corpus import stopwords, wordnet\n",
    "from nltk.stem import WordNetLemmatizer\n",
    "from nltk.tokenize import TweetTokenizer\n",
    "\n",
    "import re"
   ]
  },
  {
   "cell_type": "code",
   "execution_count": 4,
   "id": "3b1f10ad",
   "metadata": {},
   "outputs": [],
   "source": [
    "df = pd.read_csv(r'nlp-getting-started/train.csv')"
   ]
  },
  {
   "cell_type": "code",
   "execution_count": 7,
   "id": "05eeb474",
   "metadata": {},
   "outputs": [],
   "source": [
    "df.drop(['id','keyword','location'],axis=1, inplace=True)"
   ]
  },
  {
   "cell_type": "code",
   "execution_count": 8,
   "id": "97475d28",
   "metadata": {},
   "outputs": [
    {
     "data": {
      "text/html": [
       "<div>\n",
       "<style scoped>\n",
       "    .dataframe tbody tr th:only-of-type {\n",
       "        vertical-align: middle;\n",
       "    }\n",
       "\n",
       "    .dataframe tbody tr th {\n",
       "        vertical-align: top;\n",
       "    }\n",
       "\n",
       "    .dataframe thead th {\n",
       "        text-align: right;\n",
       "    }\n",
       "</style>\n",
       "<table border=\"1\" class=\"dataframe\">\n",
       "  <thead>\n",
       "    <tr style=\"text-align: right;\">\n",
       "      <th></th>\n",
       "      <th>text</th>\n",
       "      <th>target</th>\n",
       "    </tr>\n",
       "  </thead>\n",
       "  <tbody>\n",
       "    <tr>\n",
       "      <th>0</th>\n",
       "      <td>Our Deeds are the Reason of this #earthquake M...</td>\n",
       "      <td>1</td>\n",
       "    </tr>\n",
       "    <tr>\n",
       "      <th>1</th>\n",
       "      <td>Forest fire near La Ronge Sask. Canada</td>\n",
       "      <td>1</td>\n",
       "    </tr>\n",
       "    <tr>\n",
       "      <th>2</th>\n",
       "      <td>All residents asked to 'shelter in place' are ...</td>\n",
       "      <td>1</td>\n",
       "    </tr>\n",
       "    <tr>\n",
       "      <th>3</th>\n",
       "      <td>13,000 people receive #wildfires evacuation or...</td>\n",
       "      <td>1</td>\n",
       "    </tr>\n",
       "    <tr>\n",
       "      <th>4</th>\n",
       "      <td>Just got sent this photo from Ruby #Alaska as ...</td>\n",
       "      <td>1</td>\n",
       "    </tr>\n",
       "  </tbody>\n",
       "</table>\n",
       "</div>"
      ],
      "text/plain": [
       "                                                text  target\n",
       "0  Our Deeds are the Reason of this #earthquake M...       1\n",
       "1             Forest fire near La Ronge Sask. Canada       1\n",
       "2  All residents asked to 'shelter in place' are ...       1\n",
       "3  13,000 people receive #wildfires evacuation or...       1\n",
       "4  Just got sent this photo from Ruby #Alaska as ...       1"
      ]
     },
     "execution_count": 8,
     "metadata": {},
     "output_type": "execute_result"
    }
   ],
   "source": [
    "df.head()"
   ]
  },
  {
   "cell_type": "code",
   "execution_count": 9,
   "id": "15219185",
   "metadata": {},
   "outputs": [],
   "source": [
    "def preprocessor(dataframe):\n",
    "    pass"
   ]
  },
  {
   "cell_type": "code",
   "execution_count": 31,
   "id": "7ef1cd2f",
   "metadata": {},
   "outputs": [],
   "source": [
    "def get_wordnet_pos(treebank_tag):\n",
    "\n",
    "    if treebank_tag.startswith('J'):\n",
    "        return wordnet.ADJ\n",
    "    elif treebank_tag.startswith('V'):\n",
    "        return wordnet.VERB\n",
    "    elif treebank_tag.startswith('N'):\n",
    "        return wordnet.NOUN\n",
    "    elif treebank_tag.startswith('R'):\n",
    "        return wordnet.ADV\n",
    "    else:\n",
    "        return ''"
   ]
  },
  {
   "cell_type": "markdown",
   "id": "8a9391f4",
   "metadata": {},
   "source": [
    "# Tweet Tokenizer\n"
   ]
  },
  {
   "cell_type": "code",
   "execution_count": 14,
   "id": "d678ab12",
   "metadata": {},
   "outputs": [],
   "source": [
    "tweeter = TweetTokenizer(strip_handles=True,reduce_len=True, preserve_case=False)"
   ]
  },
  {
   "cell_type": "code",
   "execution_count": 15,
   "id": "fc2f41f6",
   "metadata": {},
   "outputs": [],
   "source": [
    "df['tweets'] = df['text'].apply(lambda text: tweeter.tokenize(text))"
   ]
  },
  {
   "cell_type": "code",
   "execution_count": 16,
   "id": "50ee6607",
   "metadata": {},
   "outputs": [
    {
     "data": {
      "text/plain": [
       "0       [our, deeds, are, the, reason, of, this, #eart...\n",
       "1        [forest, fire, near, la, ronge, sask, ., canada]\n",
       "2       [all, residents, asked, to, ', shelter, in, pl...\n",
       "3       [13,000, people, receive, #wildfires, evacuati...\n",
       "4       [just, got, sent, this, photo, from, ruby, #al...\n",
       "                              ...                        \n",
       "7608    [two, giant, cranes, holding, a, bridge, colla...\n",
       "7609    [the, out, of, control, wild, fires, in, calif...\n",
       "7610    [m1, ., 94, [, 01:04, utc, ], ?, 5km, s, of, v...\n",
       "7611    [police, investigating, after, an, e-bike, col...\n",
       "7612    [the, latest, :, more, homes, razed, by, north...\n",
       "Name: tweets, Length: 7613, dtype: object"
      ]
     },
     "execution_count": 16,
     "metadata": {},
     "output_type": "execute_result"
    }
   ],
   "source": [
    "df['tweets']"
   ]
  },
  {
   "cell_type": "code",
   "execution_count": 17,
   "id": "40bb83e2",
   "metadata": {},
   "outputs": [],
   "source": [
    "lemma = WordNetLemmatizer()"
   ]
  },
  {
   "cell_type": "code",
   "execution_count": 68,
   "id": "fb79eb11",
   "metadata": {},
   "outputs": [],
   "source": [
    "def lemmatizing(sentence_array):\n",
    "    lemmas = nltk.pos_tag(sentence_array)\n",
    "    container = []\n",
    "    for word,lem in lemmas:\n",
    "        pos = get_wordnet_pos(lem)\n",
    "        if pos:\n",
    "            container.append(lemma.lemmatize(word,pos=pos))\n",
    "        else:\n",
    "            container.append(lemma.lemmatize(word))\n",
    "    return container"
   ]
  },
  {
   "cell_type": "code",
   "execution_count": 69,
   "id": "ec6c5038",
   "metadata": {},
   "outputs": [],
   "source": [
    "df['lemmed'] = df['tweets'].apply(lambda array: lemmatizing(array))"
   ]
  },
  {
   "cell_type": "code",
   "execution_count": 70,
   "id": "639aab04",
   "metadata": {},
   "outputs": [
    {
     "data": {
      "text/plain": [
       "0       [our, deed, be, the, reason, of, this, #earthq...\n",
       "1        [forest, fire, near, la, ronge, sask, ., canada]\n",
       "2       [all, resident, ask, to, ', shelter, in, place...\n",
       "3       [13,000, people, receive, #wildfires, evacuati...\n",
       "4       [just, get, send, this, photo, from, ruby, #al...\n",
       "                              ...                        \n",
       "7608    [two, giant, crane, hold, a, bridge, collapse,...\n",
       "7609    [the, out, of, control, wild, fire, in, califo...\n",
       "7610    [m1, ., 94, [, 01:04, utc, ], ?, 5km, s, of, v...\n",
       "7611    [police, investigate, after, an, e-bike, colli...\n",
       "7612    [the, late, :, more, home, raze, by, northern,...\n",
       "Name: lemmed, Length: 7613, dtype: object"
      ]
     },
     "execution_count": 70,
     "metadata": {},
     "output_type": "execute_result"
    }
   ],
   "source": [
    "df['lemmed']"
   ]
  },
  {
   "cell_type": "code",
   "execution_count": 113,
   "id": "b896cc2c",
   "metadata": {},
   "outputs": [],
   "source": [
    "def cleaner(sentence_array):\n",
    "    sentence = \" \".join(sentence_array)\n",
    "    sentence = re.sub(r\"http\\S+\", \"\", sentence)\n",
    "    sentence = re.sub('[()!?]', ' ', sentence)\n",
    "    sentence = re.sub('[()!?]', ' ', sentence)\n",
    "    sentence = re.sub('\\[.*?\\]',' ', sentence)\n",
    "    sentence = re.sub(\"[^a-z0-9]\",\" \", sentence)\n",
    "    sentence = re.sub(r'\\b\\w{1,3}\\b', '', sentence)\n",
    "    sentence = [w for w in sentence.split() if not w in stopwords.words('english')]\n",
    "\n",
    "    return \" \".join(sentence)\n",
    "        "
   ]
  },
  {
   "cell_type": "code",
   "execution_count": 114,
   "id": "17f7ae0f",
   "metadata": {},
   "outputs": [],
   "source": [
    "df['cleaned'] = df['lemmed'].apply(lambda array: cleaner(array))"
   ]
  },
  {
   "cell_type": "code",
   "execution_count": 115,
   "id": "601a752f",
   "metadata": {},
   "outputs": [
    {
     "data": {
      "text/plain": [
       "0                    deed reason earthquake allah forgive\n",
       "1                      forest fire near ronge sask canada\n",
       "2       resident shelter place notify officer evacuati...\n",
       "3       people receive wildfires evacuation order cali...\n",
       "4       send photo ruby alaska smoke wildfires pour sc...\n",
       "                              ...                        \n",
       "7608         giant crane hold bridge collapse nearby home\n",
       "7609    control wild fire california even northern par...\n",
       "7610                                       volcano hawaii\n",
       "7611    police investigate bike collided little portug...\n",
       "7612     late home raze northern california wildfire news\n",
       "Name: cleaned, Length: 7613, dtype: object"
      ]
     },
     "execution_count": 115,
     "metadata": {},
     "output_type": "execute_result"
    }
   ],
   "source": [
    "df['cleaned']"
   ]
  },
  {
   "cell_type": "code",
   "execution_count": 116,
   "id": "e193f330",
   "metadata": {},
   "outputs": [
    {
     "data": {
      "text/plain": [
       "0"
      ]
     },
     "execution_count": 116,
     "metadata": {},
     "output_type": "execute_result"
    }
   ],
   "source": [
    "df['cleaned'].isna().sum()"
   ]
  },
  {
   "cell_type": "markdown",
   "id": "386b3ea2",
   "metadata": {},
   "source": [
    "# Machine learning"
   ]
  },
  {
   "cell_type": "code",
   "execution_count": 119,
   "id": "31065006",
   "metadata": {},
   "outputs": [],
   "source": [
    "from sklearn.model_selection import train_test_split\n",
    "\n",
    "#reminder to build preprocessor function and insert in the vectorizers instead of using the default\n",
    "from sklearn.feature_extraction.text import CountVectorizer, TfidfVectorizer\n",
    "\n",
    "from sklearn.linear_model import LogisticRegression\n",
    "from sklearn.ensemble import RandomForestClassifier\n",
    "\n",
    "\n",
    "from keras import models, layers, optimizers"
   ]
  },
  {
   "cell_type": "code",
   "execution_count": 125,
   "id": "05eb3b71",
   "metadata": {},
   "outputs": [],
   "source": [
    "X_train, X_test, y_train, y_test = train_test_split(df['cleaned'],df['target'],test_size = .2, random_state = 42)"
   ]
  },
  {
   "cell_type": "markdown",
   "id": "467a41bf",
   "metadata": {},
   "source": [
    "## CountVectorizer"
   ]
  },
  {
   "cell_type": "code",
   "execution_count": 128,
   "id": "225a3b01",
   "metadata": {},
   "outputs": [],
   "source": [
    "counter = CountVectorizer()"
   ]
  },
  {
   "cell_type": "code",
   "execution_count": 129,
   "id": "0c0ab0a4",
   "metadata": {},
   "outputs": [],
   "source": [
    "counted_vect = counter.fit_transform(X_train)"
   ]
  },
  {
   "cell_type": "code",
   "execution_count": 136,
   "id": "95637951",
   "metadata": {},
   "outputs": [
    {
     "data": {
      "text/plain": [
       "matrix([[0, 0, 0, ..., 0, 0, 0],\n",
       "        [0, 0, 0, ..., 0, 0, 0],\n",
       "        [0, 0, 0, ..., 0, 0, 0],\n",
       "        ...,\n",
       "        [0, 0, 0, ..., 0, 0, 0],\n",
       "        [0, 0, 0, ..., 0, 0, 0],\n",
       "        [0, 0, 0, ..., 0, 0, 0]], dtype=int64)"
      ]
     },
     "execution_count": 136,
     "metadata": {},
     "output_type": "execute_result"
    }
   ],
   "source": [
    "counted_vect.todense()"
   ]
  },
  {
   "cell_type": "code",
   "execution_count": 150,
   "id": "8c15ac7e",
   "metadata": {},
   "outputs": [],
   "source": [
    "counted_df = pd.DataFrame(data=counted_vect.todense(),columns=counter.get_feature_names())"
   ]
  },
  {
   "cell_type": "code",
   "execution_count": 165,
   "id": "f94e31d7",
   "metadata": {},
   "outputs": [
    {
     "data": {
      "text/html": [
       "<div>\n",
       "<style scoped>\n",
       "    .dataframe tbody tr th:only-of-type {\n",
       "        vertical-align: middle;\n",
       "    }\n",
       "\n",
       "    .dataframe tbody tr th {\n",
       "        vertical-align: top;\n",
       "    }\n",
       "\n",
       "    .dataframe thead th {\n",
       "        text-align: right;\n",
       "    }\n",
       "</style>\n",
       "<table border=\"1\" class=\"dataframe\">\n",
       "  <thead>\n",
       "    <tr style=\"text-align: right;\">\n",
       "      <th></th>\n",
       "      <th>00pm</th>\n",
       "      <th>066gp</th>\n",
       "      <th>06jst</th>\n",
       "      <th>0853</th>\n",
       "      <th>08780923344</th>\n",
       "      <th>0880</th>\n",
       "      <th>0fsloths</th>\n",
       "      <th>0npzp</th>\n",
       "      <th>0sed</th>\n",
       "      <th>1000</th>\n",
       "      <th>...</th>\n",
       "      <th>zipper</th>\n",
       "      <th>zippoline</th>\n",
       "      <th>zl1ns2i</th>\n",
       "      <th>zmne</th>\n",
       "      <th>zombie</th>\n",
       "      <th>zombiefunrun2014</th>\n",
       "      <th>zone</th>\n",
       "      <th>zonewolf</th>\n",
       "      <th>zouma</th>\n",
       "      <th>zumiez</th>\n",
       "    </tr>\n",
       "  </thead>\n",
       "  <tbody>\n",
       "    <tr>\n",
       "      <th>0</th>\n",
       "      <td>0</td>\n",
       "      <td>0</td>\n",
       "      <td>0</td>\n",
       "      <td>0</td>\n",
       "      <td>0</td>\n",
       "      <td>0</td>\n",
       "      <td>0</td>\n",
       "      <td>0</td>\n",
       "      <td>0</td>\n",
       "      <td>0</td>\n",
       "      <td>...</td>\n",
       "      <td>0</td>\n",
       "      <td>0</td>\n",
       "      <td>0</td>\n",
       "      <td>0</td>\n",
       "      <td>0</td>\n",
       "      <td>0</td>\n",
       "      <td>0</td>\n",
       "      <td>0</td>\n",
       "      <td>0</td>\n",
       "      <td>0</td>\n",
       "    </tr>\n",
       "    <tr>\n",
       "      <th>1</th>\n",
       "      <td>0</td>\n",
       "      <td>0</td>\n",
       "      <td>0</td>\n",
       "      <td>0</td>\n",
       "      <td>0</td>\n",
       "      <td>0</td>\n",
       "      <td>0</td>\n",
       "      <td>0</td>\n",
       "      <td>0</td>\n",
       "      <td>0</td>\n",
       "      <td>...</td>\n",
       "      <td>0</td>\n",
       "      <td>0</td>\n",
       "      <td>0</td>\n",
       "      <td>0</td>\n",
       "      <td>0</td>\n",
       "      <td>0</td>\n",
       "      <td>0</td>\n",
       "      <td>0</td>\n",
       "      <td>0</td>\n",
       "      <td>0</td>\n",
       "    </tr>\n",
       "    <tr>\n",
       "      <th>2</th>\n",
       "      <td>0</td>\n",
       "      <td>0</td>\n",
       "      <td>0</td>\n",
       "      <td>0</td>\n",
       "      <td>0</td>\n",
       "      <td>0</td>\n",
       "      <td>0</td>\n",
       "      <td>0</td>\n",
       "      <td>0</td>\n",
       "      <td>0</td>\n",
       "      <td>...</td>\n",
       "      <td>0</td>\n",
       "      <td>0</td>\n",
       "      <td>0</td>\n",
       "      <td>0</td>\n",
       "      <td>0</td>\n",
       "      <td>0</td>\n",
       "      <td>0</td>\n",
       "      <td>0</td>\n",
       "      <td>0</td>\n",
       "      <td>0</td>\n",
       "    </tr>\n",
       "    <tr>\n",
       "      <th>3</th>\n",
       "      <td>0</td>\n",
       "      <td>0</td>\n",
       "      <td>0</td>\n",
       "      <td>0</td>\n",
       "      <td>0</td>\n",
       "      <td>0</td>\n",
       "      <td>0</td>\n",
       "      <td>0</td>\n",
       "      <td>0</td>\n",
       "      <td>0</td>\n",
       "      <td>...</td>\n",
       "      <td>0</td>\n",
       "      <td>0</td>\n",
       "      <td>0</td>\n",
       "      <td>0</td>\n",
       "      <td>0</td>\n",
       "      <td>0</td>\n",
       "      <td>0</td>\n",
       "      <td>0</td>\n",
       "      <td>0</td>\n",
       "      <td>0</td>\n",
       "    </tr>\n",
       "    <tr>\n",
       "      <th>4</th>\n",
       "      <td>0</td>\n",
       "      <td>0</td>\n",
       "      <td>0</td>\n",
       "      <td>0</td>\n",
       "      <td>0</td>\n",
       "      <td>0</td>\n",
       "      <td>0</td>\n",
       "      <td>0</td>\n",
       "      <td>0</td>\n",
       "      <td>0</td>\n",
       "      <td>...</td>\n",
       "      <td>0</td>\n",
       "      <td>0</td>\n",
       "      <td>0</td>\n",
       "      <td>0</td>\n",
       "      <td>0</td>\n",
       "      <td>0</td>\n",
       "      <td>0</td>\n",
       "      <td>0</td>\n",
       "      <td>0</td>\n",
       "      <td>0</td>\n",
       "    </tr>\n",
       "    <tr>\n",
       "      <th>...</th>\n",
       "      <td>...</td>\n",
       "      <td>...</td>\n",
       "      <td>...</td>\n",
       "      <td>...</td>\n",
       "      <td>...</td>\n",
       "      <td>...</td>\n",
       "      <td>...</td>\n",
       "      <td>...</td>\n",
       "      <td>...</td>\n",
       "      <td>...</td>\n",
       "      <td>...</td>\n",
       "      <td>...</td>\n",
       "      <td>...</td>\n",
       "      <td>...</td>\n",
       "      <td>...</td>\n",
       "      <td>...</td>\n",
       "      <td>...</td>\n",
       "      <td>...</td>\n",
       "      <td>...</td>\n",
       "      <td>...</td>\n",
       "      <td>...</td>\n",
       "    </tr>\n",
       "    <tr>\n",
       "      <th>6085</th>\n",
       "      <td>0</td>\n",
       "      <td>0</td>\n",
       "      <td>0</td>\n",
       "      <td>0</td>\n",
       "      <td>0</td>\n",
       "      <td>0</td>\n",
       "      <td>0</td>\n",
       "      <td>0</td>\n",
       "      <td>0</td>\n",
       "      <td>0</td>\n",
       "      <td>...</td>\n",
       "      <td>0</td>\n",
       "      <td>0</td>\n",
       "      <td>0</td>\n",
       "      <td>0</td>\n",
       "      <td>0</td>\n",
       "      <td>0</td>\n",
       "      <td>0</td>\n",
       "      <td>0</td>\n",
       "      <td>0</td>\n",
       "      <td>0</td>\n",
       "    </tr>\n",
       "    <tr>\n",
       "      <th>6086</th>\n",
       "      <td>0</td>\n",
       "      <td>0</td>\n",
       "      <td>0</td>\n",
       "      <td>0</td>\n",
       "      <td>0</td>\n",
       "      <td>0</td>\n",
       "      <td>0</td>\n",
       "      <td>0</td>\n",
       "      <td>0</td>\n",
       "      <td>0</td>\n",
       "      <td>...</td>\n",
       "      <td>0</td>\n",
       "      <td>0</td>\n",
       "      <td>0</td>\n",
       "      <td>0</td>\n",
       "      <td>0</td>\n",
       "      <td>0</td>\n",
       "      <td>0</td>\n",
       "      <td>0</td>\n",
       "      <td>0</td>\n",
       "      <td>0</td>\n",
       "    </tr>\n",
       "    <tr>\n",
       "      <th>6087</th>\n",
       "      <td>0</td>\n",
       "      <td>0</td>\n",
       "      <td>0</td>\n",
       "      <td>0</td>\n",
       "      <td>0</td>\n",
       "      <td>0</td>\n",
       "      <td>0</td>\n",
       "      <td>0</td>\n",
       "      <td>0</td>\n",
       "      <td>0</td>\n",
       "      <td>...</td>\n",
       "      <td>0</td>\n",
       "      <td>0</td>\n",
       "      <td>0</td>\n",
       "      <td>0</td>\n",
       "      <td>0</td>\n",
       "      <td>0</td>\n",
       "      <td>0</td>\n",
       "      <td>0</td>\n",
       "      <td>0</td>\n",
       "      <td>0</td>\n",
       "    </tr>\n",
       "    <tr>\n",
       "      <th>6088</th>\n",
       "      <td>0</td>\n",
       "      <td>0</td>\n",
       "      <td>0</td>\n",
       "      <td>0</td>\n",
       "      <td>0</td>\n",
       "      <td>0</td>\n",
       "      <td>0</td>\n",
       "      <td>0</td>\n",
       "      <td>0</td>\n",
       "      <td>0</td>\n",
       "      <td>...</td>\n",
       "      <td>0</td>\n",
       "      <td>0</td>\n",
       "      <td>0</td>\n",
       "      <td>0</td>\n",
       "      <td>0</td>\n",
       "      <td>0</td>\n",
       "      <td>0</td>\n",
       "      <td>0</td>\n",
       "      <td>0</td>\n",
       "      <td>0</td>\n",
       "    </tr>\n",
       "    <tr>\n",
       "      <th>6089</th>\n",
       "      <td>0</td>\n",
       "      <td>0</td>\n",
       "      <td>0</td>\n",
       "      <td>0</td>\n",
       "      <td>0</td>\n",
       "      <td>0</td>\n",
       "      <td>0</td>\n",
       "      <td>0</td>\n",
       "      <td>0</td>\n",
       "      <td>0</td>\n",
       "      <td>...</td>\n",
       "      <td>0</td>\n",
       "      <td>0</td>\n",
       "      <td>0</td>\n",
       "      <td>0</td>\n",
       "      <td>0</td>\n",
       "      <td>0</td>\n",
       "      <td>0</td>\n",
       "      <td>0</td>\n",
       "      <td>0</td>\n",
       "      <td>0</td>\n",
       "    </tr>\n",
       "  </tbody>\n",
       "</table>\n",
       "<p>6090 rows × 9677 columns</p>\n",
       "</div>"
      ],
      "text/plain": [
       "      00pm  066gp  06jst  0853  08780923344  0880  0fsloths  0npzp  0sed  \\\n",
       "0        0      0      0     0            0     0         0      0     0   \n",
       "1        0      0      0     0            0     0         0      0     0   \n",
       "2        0      0      0     0            0     0         0      0     0   \n",
       "3        0      0      0     0            0     0         0      0     0   \n",
       "4        0      0      0     0            0     0         0      0     0   \n",
       "...    ...    ...    ...   ...          ...   ...       ...    ...   ...   \n",
       "6085     0      0      0     0            0     0         0      0     0   \n",
       "6086     0      0      0     0            0     0         0      0     0   \n",
       "6087     0      0      0     0            0     0         0      0     0   \n",
       "6088     0      0      0     0            0     0         0      0     0   \n",
       "6089     0      0      0     0            0     0         0      0     0   \n",
       "\n",
       "      1000  ...  zipper  zippoline  zl1ns2i  zmne  zombie  zombiefunrun2014  \\\n",
       "0        0  ...       0          0        0     0       0                 0   \n",
       "1        0  ...       0          0        0     0       0                 0   \n",
       "2        0  ...       0          0        0     0       0                 0   \n",
       "3        0  ...       0          0        0     0       0                 0   \n",
       "4        0  ...       0          0        0     0       0                 0   \n",
       "...    ...  ...     ...        ...      ...   ...     ...               ...   \n",
       "6085     0  ...       0          0        0     0       0                 0   \n",
       "6086     0  ...       0          0        0     0       0                 0   \n",
       "6087     0  ...       0          0        0     0       0                 0   \n",
       "6088     0  ...       0          0        0     0       0                 0   \n",
       "6089     0  ...       0          0        0     0       0                 0   \n",
       "\n",
       "      zone  zonewolf  zouma  zumiez  \n",
       "0        0         0      0       0  \n",
       "1        0         0      0       0  \n",
       "2        0         0      0       0  \n",
       "3        0         0      0       0  \n",
       "4        0         0      0       0  \n",
       "...    ...       ...    ...     ...  \n",
       "6085     0         0      0       0  \n",
       "6086     0         0      0       0  \n",
       "6087     0         0      0       0  \n",
       "6088     0         0      0       0  \n",
       "6089     0         0      0       0  \n",
       "\n",
       "[6090 rows x 9677 columns]"
      ]
     },
     "execution_count": 165,
     "metadata": {},
     "output_type": "execute_result"
    }
   ],
   "source": [
    "counted_df"
   ]
  },
  {
   "cell_type": "code",
   "execution_count": 161,
   "id": "578ff283",
   "metadata": {},
   "outputs": [],
   "source": [
    "X_train_c = counter.transform(X_train)\n",
    "X_test_c = counter.transform(X_test)"
   ]
  },
  {
   "cell_type": "code",
   "execution_count": 162,
   "id": "85ff24ff",
   "metadata": {},
   "outputs": [
    {
     "data": {
      "text/plain": [
       "LogisticRegression()"
      ]
     },
     "execution_count": 162,
     "metadata": {},
     "output_type": "execute_result"
    }
   ],
   "source": [
    "log = LogisticRegression()\n",
    "log.fit(X_train_c,y_train)"
   ]
  },
  {
   "cell_type": "code",
   "execution_count": 164,
   "id": "03162d84",
   "metadata": {},
   "outputs": [
    {
     "data": {
      "text/plain": [
       "0.788575180564675"
      ]
     },
     "execution_count": 164,
     "metadata": {},
     "output_type": "execute_result"
    }
   ],
   "source": [
    "log.score(X_test_c,y_test)"
   ]
  },
  {
   "cell_type": "markdown",
   "id": "8a4cb9d1",
   "metadata": {},
   "source": [
    "## TFidf Vectorizer"
   ]
  },
  {
   "cell_type": "code",
   "execution_count": 166,
   "id": "80082b08",
   "metadata": {},
   "outputs": [],
   "source": [
    "tfidf = TfidfVectorizer()\n",
    "tf_vect = tfidf.fit_transform(X_train)\n",
    "X_train_tf = tfidf.transform(X_train)\n",
    "X_test_tf = tfidf.transform(X_test)"
   ]
  },
  {
   "cell_type": "code",
   "execution_count": 167,
   "id": "9570873e",
   "metadata": {},
   "outputs": [
    {
     "data": {
      "text/plain": [
       "LogisticRegression()"
      ]
     },
     "execution_count": 167,
     "metadata": {},
     "output_type": "execute_result"
    }
   ],
   "source": [
    "logtf = LogisticRegression()\n",
    "logtf.fit(X_train_tf,y_train)"
   ]
  },
  {
   "cell_type": "code",
   "execution_count": 168,
   "id": "8214319f",
   "metadata": {},
   "outputs": [
    {
     "data": {
      "text/plain": [
       "0.7898883782009193"
      ]
     },
     "execution_count": 168,
     "metadata": {},
     "output_type": "execute_result"
    }
   ],
   "source": [
    "logtf.score(X_test_tf,y_test)"
   ]
  },
  {
   "cell_type": "markdown",
   "id": "4a329b2a",
   "metadata": {},
   "source": [
    "### TFIDF part 2"
   ]
  },
  {
   "cell_type": "code",
   "execution_count": null,
   "id": "ebbd61be",
   "metadata": {},
   "outputs": [],
   "source": [
    "tfidf2 = TfidfVectorizer()\n",
    "tf_vect2 = tfidf2.fit_transform(X_train)\n",
    "X_train_tf2 = tfidf2.transform(X_train)\n",
    "X_test_tf2 = tfidf2.transform(X_test)"
   ]
  },
  {
   "cell_type": "code",
   "execution_count": null,
   "id": "0b61b7e8",
   "metadata": {},
   "outputs": [],
   "source": []
  },
  {
   "cell_type": "code",
   "execution_count": null,
   "id": "8277687e",
   "metadata": {},
   "outputs": [],
   "source": []
  },
  {
   "cell_type": "code",
   "execution_count": null,
   "id": "8a8ebc0f",
   "metadata": {},
   "outputs": [],
   "source": []
  },
  {
   "cell_type": "code",
   "execution_count": null,
   "id": "bfe736c6",
   "metadata": {},
   "outputs": [],
   "source": []
  },
  {
   "cell_type": "code",
   "execution_count": null,
   "id": "43c9339d",
   "metadata": {},
   "outputs": [],
   "source": []
  },
  {
   "cell_type": "code",
   "execution_count": null,
   "id": "695b973f",
   "metadata": {},
   "outputs": [],
   "source": []
  },
  {
   "cell_type": "code",
   "execution_count": null,
   "id": "ac52f5a9",
   "metadata": {},
   "outputs": [],
   "source": []
  },
  {
   "cell_type": "code",
   "execution_count": null,
   "id": "b4a207e4",
   "metadata": {},
   "outputs": [],
   "source": []
  },
  {
   "cell_type": "code",
   "execution_count": null,
   "id": "bd4c279a",
   "metadata": {},
   "outputs": [],
   "source": []
  },
  {
   "cell_type": "code",
   "execution_count": null,
   "id": "dc8e4f1e",
   "metadata": {},
   "outputs": [],
   "source": []
  },
  {
   "cell_type": "code",
   "execution_count": null,
   "id": "2e16d9f5",
   "metadata": {},
   "outputs": [],
   "source": []
  },
  {
   "cell_type": "code",
   "execution_count": null,
   "id": "be254b37",
   "metadata": {},
   "outputs": [],
   "source": []
  },
  {
   "cell_type": "code",
   "execution_count": null,
   "id": "c7439446",
   "metadata": {},
   "outputs": [],
   "source": []
  },
  {
   "cell_type": "code",
   "execution_count": null,
   "id": "d07ff69d",
   "metadata": {},
   "outputs": [],
   "source": []
  },
  {
   "cell_type": "code",
   "execution_count": null,
   "id": "0019e6ce",
   "metadata": {},
   "outputs": [],
   "source": []
  },
  {
   "cell_type": "code",
   "execution_count": null,
   "id": "a9ea5265",
   "metadata": {},
   "outputs": [],
   "source": []
  },
  {
   "cell_type": "code",
   "execution_count": 107,
   "id": "aab6a942",
   "metadata": {
    "scrolled": true
   },
   "outputs": [
    {
     "data": {
      "text/plain": [
       "['m1',\n",
       " '.',\n",
       " '94',\n",
       " '[',\n",
       " '01:04',\n",
       " 'utc',\n",
       " ']',\n",
       " '?',\n",
       " '5km',\n",
       " 's',\n",
       " 'of',\n",
       " 'volcano',\n",
       " 'hawaii',\n",
       " '.',\n",
       " 'http://t.co/zDtoyd8EbJ']"
      ]
     },
     "execution_count": 107,
     "metadata": {},
     "output_type": "execute_result"
    }
   ],
   "source": [
    "temp"
   ]
  },
  {
   "cell_type": "code",
   "execution_count": 108,
   "id": "d0126836",
   "metadata": {},
   "outputs": [
    {
     "data": {
      "text/plain": [
       "['volcano', 'hawaii']"
      ]
     },
     "execution_count": 108,
     "metadata": {},
     "output_type": "execute_result"
    }
   ],
   "source": [
    "cleaner(temp)"
   ]
  },
  {
   "cell_type": "code",
   "execution_count": 76,
   "id": "047ad4bd",
   "metadata": {},
   "outputs": [],
   "source": [
    "temp = df['lemmed'].iloc[7610]"
   ]
  },
  {
   "cell_type": "code",
   "execution_count": 77,
   "id": "5ad005be",
   "metadata": {},
   "outputs": [
    {
     "data": {
      "text/plain": [
       "['m1',\n",
       " '.',\n",
       " '94',\n",
       " '[',\n",
       " '01:04',\n",
       " 'utc',\n",
       " ']',\n",
       " '?',\n",
       " '5km',\n",
       " 's',\n",
       " 'of',\n",
       " 'volcano',\n",
       " 'hawaii',\n",
       " '.',\n",
       " 'http://t.co/zDtoyd8EbJ']"
      ]
     },
     "execution_count": 77,
     "metadata": {},
     "output_type": "execute_result"
    }
   ],
   "source": [
    "temp"
   ]
  },
  {
   "cell_type": "code",
   "execution_count": 79,
   "id": "41052b0b",
   "metadata": {},
   "outputs": [],
   "source": [
    "new_temp = re.sub(r\"http\\S+\", \"\", \" \".join(temp))"
   ]
  },
  {
   "cell_type": "code",
   "execution_count": 80,
   "id": "b28fbb14",
   "metadata": {},
   "outputs": [
    {
     "data": {
      "text/plain": [
       "'m1 . 94 [ 01:04 utc ] ? 5km s of volcano hawaii . '"
      ]
     },
     "execution_count": 80,
     "metadata": {},
     "output_type": "execute_result"
    }
   ],
   "source": [
    "new_temp"
   ]
  },
  {
   "cell_type": "code",
   "execution_count": 81,
   "id": "46416258",
   "metadata": {},
   "outputs": [],
   "source": [
    "new_temp2 = re.sub('[()!?]', ' ', new_temp)"
   ]
  },
  {
   "cell_type": "code",
   "execution_count": 82,
   "id": "ffec703b",
   "metadata": {},
   "outputs": [
    {
     "data": {
      "text/plain": [
       "'m1 . 94 [ 01:04 utc ]   5km s of volcano hawaii . '"
      ]
     },
     "execution_count": 82,
     "metadata": {},
     "output_type": "execute_result"
    }
   ],
   "source": [
    "new_temp2"
   ]
  },
  {
   "cell_type": "code",
   "execution_count": 84,
   "id": "d300b4e3",
   "metadata": {},
   "outputs": [],
   "source": [
    "new_temp3 = re.sub('\\[.*?\\]',' ', new_temp2)"
   ]
  },
  {
   "cell_type": "code",
   "execution_count": 85,
   "id": "803ce4fb",
   "metadata": {},
   "outputs": [
    {
     "data": {
      "text/plain": [
       "'m1 . 94     5km s of volcano hawaii . '"
      ]
     },
     "execution_count": 85,
     "metadata": {},
     "output_type": "execute_result"
    }
   ],
   "source": [
    "new_temp3"
   ]
  },
  {
   "cell_type": "code",
   "execution_count": 86,
   "id": "43565f95",
   "metadata": {},
   "outputs": [],
   "source": [
    "new_temp4 = re.sub(\"[^a-z0-9]\",\" \", new_temp3)"
   ]
  },
  {
   "cell_type": "code",
   "execution_count": 87,
   "id": "2fda8d99",
   "metadata": {},
   "outputs": [
    {
     "data": {
      "text/plain": [
       "'m1   94     5km s of volcano hawaii   '"
      ]
     },
     "execution_count": 87,
     "metadata": {},
     "output_type": "execute_result"
    }
   ],
   "source": [
    "new_temp4"
   ]
  },
  {
   "cell_type": "code",
   "execution_count": 94,
   "id": "00550475",
   "metadata": {},
   "outputs": [],
   "source": [
    "test_stopwords = [\"for\", \"on\", \"an\", \"a\", \"of\", \"and\", \"in\", \"the\", \"to\", \"from\"]\n",
    "\n",
    "temp5 = [w for w in new_temp4.split() if not w in test_stopwords]\n",
    "temp6 = \" \".join(word for word in temp5)"
   ]
  },
  {
   "cell_type": "code",
   "execution_count": 95,
   "id": "b6bec9a3",
   "metadata": {
    "scrolled": true
   },
   "outputs": [
    {
     "data": {
      "text/plain": [
       "'m1 94 5km s volcano hawaii'"
      ]
     },
     "execution_count": 95,
     "metadata": {},
     "output_type": "execute_result"
    }
   ],
   "source": [
    "temp6"
   ]
  },
  {
   "cell_type": "code",
   "execution_count": 103,
   "id": "6e6095ad",
   "metadata": {},
   "outputs": [],
   "source": [
    "temp7 = re.sub(r'\\b\\w{1,3}\\b', '', temp6)"
   ]
  },
  {
   "cell_type": "code",
   "execution_count": 105,
   "id": "e7d08bda",
   "metadata": {},
   "outputs": [
    {
     "data": {
      "text/plain": [
       "['volcano', 'hawaii']"
      ]
     },
     "execution_count": 105,
     "metadata": {},
     "output_type": "execute_result"
    }
   ],
   "source": [
    "temp7.split()"
   ]
  },
  {
   "cell_type": "code",
   "execution_count": 99,
   "id": "01d0c2c9",
   "metadata": {},
   "outputs": [
    {
     "data": {
      "text/plain": [
       "['i',\n",
       " 'me',\n",
       " 'my',\n",
       " 'myself',\n",
       " 'we',\n",
       " 'our',\n",
       " 'ours',\n",
       " 'ourselves',\n",
       " 'you',\n",
       " \"you're\",\n",
       " \"you've\",\n",
       " \"you'll\",\n",
       " \"you'd\",\n",
       " 'your',\n",
       " 'yours',\n",
       " 'yourself',\n",
       " 'yourselves',\n",
       " 'he',\n",
       " 'him',\n",
       " 'his',\n",
       " 'himself',\n",
       " 'she',\n",
       " \"she's\",\n",
       " 'her',\n",
       " 'hers',\n",
       " 'herself',\n",
       " 'it',\n",
       " \"it's\",\n",
       " 'its',\n",
       " 'itself',\n",
       " 'they',\n",
       " 'them',\n",
       " 'their',\n",
       " 'theirs',\n",
       " 'themselves',\n",
       " 'what',\n",
       " 'which',\n",
       " 'who',\n",
       " 'whom',\n",
       " 'this',\n",
       " 'that',\n",
       " \"that'll\",\n",
       " 'these',\n",
       " 'those',\n",
       " 'am',\n",
       " 'is',\n",
       " 'are',\n",
       " 'was',\n",
       " 'were',\n",
       " 'be',\n",
       " 'been',\n",
       " 'being',\n",
       " 'have',\n",
       " 'has',\n",
       " 'had',\n",
       " 'having',\n",
       " 'do',\n",
       " 'does',\n",
       " 'did',\n",
       " 'doing',\n",
       " 'a',\n",
       " 'an',\n",
       " 'the',\n",
       " 'and',\n",
       " 'but',\n",
       " 'if',\n",
       " 'or',\n",
       " 'because',\n",
       " 'as',\n",
       " 'until',\n",
       " 'while',\n",
       " 'of',\n",
       " 'at',\n",
       " 'by',\n",
       " 'for',\n",
       " 'with',\n",
       " 'about',\n",
       " 'against',\n",
       " 'between',\n",
       " 'into',\n",
       " 'through',\n",
       " 'during',\n",
       " 'before',\n",
       " 'after',\n",
       " 'above',\n",
       " 'below',\n",
       " 'to',\n",
       " 'from',\n",
       " 'up',\n",
       " 'down',\n",
       " 'in',\n",
       " 'out',\n",
       " 'on',\n",
       " 'off',\n",
       " 'over',\n",
       " 'under',\n",
       " 'again',\n",
       " 'further',\n",
       " 'then',\n",
       " 'once',\n",
       " 'here',\n",
       " 'there',\n",
       " 'when',\n",
       " 'where',\n",
       " 'why',\n",
       " 'how',\n",
       " 'all',\n",
       " 'any',\n",
       " 'both',\n",
       " 'each',\n",
       " 'few',\n",
       " 'more',\n",
       " 'most',\n",
       " 'other',\n",
       " 'some',\n",
       " 'such',\n",
       " 'no',\n",
       " 'nor',\n",
       " 'not',\n",
       " 'only',\n",
       " 'own',\n",
       " 'same',\n",
       " 'so',\n",
       " 'than',\n",
       " 'too',\n",
       " 'very',\n",
       " 's',\n",
       " 't',\n",
       " 'can',\n",
       " 'will',\n",
       " 'just',\n",
       " 'don',\n",
       " \"don't\",\n",
       " 'should',\n",
       " \"should've\",\n",
       " 'now',\n",
       " 'd',\n",
       " 'll',\n",
       " 'm',\n",
       " 'o',\n",
       " 're',\n",
       " 've',\n",
       " 'y',\n",
       " 'ain',\n",
       " 'aren',\n",
       " \"aren't\",\n",
       " 'couldn',\n",
       " \"couldn't\",\n",
       " 'didn',\n",
       " \"didn't\",\n",
       " 'doesn',\n",
       " \"doesn't\",\n",
       " 'hadn',\n",
       " \"hadn't\",\n",
       " 'hasn',\n",
       " \"hasn't\",\n",
       " 'haven',\n",
       " \"haven't\",\n",
       " 'isn',\n",
       " \"isn't\",\n",
       " 'ma',\n",
       " 'mightn',\n",
       " \"mightn't\",\n",
       " 'mustn',\n",
       " \"mustn't\",\n",
       " 'needn',\n",
       " \"needn't\",\n",
       " 'shan',\n",
       " \"shan't\",\n",
       " 'shouldn',\n",
       " \"shouldn't\",\n",
       " 'wasn',\n",
       " \"wasn't\",\n",
       " 'weren',\n",
       " \"weren't\",\n",
       " 'won',\n",
       " \"won't\",\n",
       " 'wouldn',\n",
       " \"wouldn't\"]"
      ]
     },
     "execution_count": 99,
     "metadata": {},
     "output_type": "execute_result"
    }
   ],
   "source": [
    "stopwords.words('english')"
   ]
  },
  {
   "cell_type": "code",
   "execution_count": 100,
   "id": "3c6ef193",
   "metadata": {},
   "outputs": [],
   "source": [
    "container2 = []\n",
    "for word in stopwords.words('english'):\n",
    "    if len(word)==1:\n",
    "        container2.append(word)"
   ]
  },
  {
   "cell_type": "code",
   "execution_count": 101,
   "id": "8871879d",
   "metadata": {},
   "outputs": [
    {
     "data": {
      "text/plain": [
       "['i', 'a', 's', 't', 'd', 'm', 'o', 'y']"
      ]
     },
     "execution_count": 101,
     "metadata": {},
     "output_type": "execute_result"
    }
   ],
   "source": [
    "container2"
   ]
  },
  {
   "cell_type": "code",
   "execution_count": null,
   "id": "ec5919b3",
   "metadata": {},
   "outputs": [],
   "source": []
  },
  {
   "cell_type": "code",
   "execution_count": 19,
   "id": "a62044d5",
   "metadata": {
    "scrolled": true
   },
   "outputs": [
    {
     "data": {
      "text/plain": [
       "'dog'"
      ]
     },
     "execution_count": 19,
     "metadata": {},
     "output_type": "execute_result"
    }
   ],
   "source": [
    "lemma.lemmatize(\"dogs\")"
   ]
  },
  {
   "cell_type": "code",
   "execution_count": 22,
   "id": "86b4c50e",
   "metadata": {},
   "outputs": [
    {
     "data": {
      "text/plain": [
       "'go'"
      ]
     },
     "execution_count": 22,
     "metadata": {},
     "output_type": "execute_result"
    }
   ],
   "source": [
    "lemma.lemmatize(\"going\",pos = \"v\")"
   ]
  },
  {
   "cell_type": "code",
   "execution_count": 26,
   "id": "499920b7",
   "metadata": {},
   "outputs": [
    {
     "name": "stdout",
     "output_type": "stream",
     "text": [
      "dog\n",
      "going\n",
      "to\n",
      "dancing\n"
     ]
    }
   ],
   "source": [
    "for word in \"dogs going to dancing\".split():\n",
    "    print(lemma.lemmatize(word))\n"
   ]
  },
  {
   "cell_type": "code",
   "execution_count": 29,
   "id": "61414b46",
   "metadata": {},
   "outputs": [
    {
     "data": {
      "text/plain": [
       "[('dog', 'NN')]"
      ]
     },
     "execution_count": 29,
     "metadata": {},
     "output_type": "execute_result"
    }
   ],
   "source": [
    "nltk.pos_tag(['dog'])"
   ]
  },
  {
   "cell_type": "code",
   "execution_count": 30,
   "id": "bf16552b",
   "metadata": {
    "scrolled": true
   },
   "outputs": [
    {
     "ename": "AttributeError",
     "evalue": "module 'nltk' has no attribute 'pos'",
     "output_type": "error",
     "traceback": [
      "\u001b[1;31m---------------------------------------------------------------------------\u001b[0m",
      "\u001b[1;31mAttributeError\u001b[0m                            Traceback (most recent call last)",
      "\u001b[1;32mC:\\Users\\NEL-JI~1\\AppData\\Local\\Temp/ipykernel_20016/3096961139.py\u001b[0m in \u001b[0;36m<module>\u001b[1;34m\u001b[0m\n\u001b[1;32m----> 1\u001b[1;33m \u001b[0mnltk\u001b[0m\u001b[1;33m.\u001b[0m\u001b[0mpos\u001b[0m\u001b[1;33m(\u001b[0m\u001b[1;33m[\u001b[0m\u001b[1;34m'going'\u001b[0m\u001b[1;33m]\u001b[0m\u001b[1;33m)\u001b[0m\u001b[1;33m\u001b[0m\u001b[1;33m\u001b[0m\u001b[0m\n\u001b[0m",
      "\u001b[1;31mAttributeError\u001b[0m: module 'nltk' has no attribute 'pos'"
     ]
    }
   ],
   "source": [
    "nltk.pos(['going'])"
   ]
  },
  {
   "cell_type": "code",
   "execution_count": 54,
   "id": "6f226ca8",
   "metadata": {},
   "outputs": [],
   "source": [
    "sentence = \"dogs going to be playing\""
   ]
  },
  {
   "cell_type": "code",
   "execution_count": 56,
   "id": "52dccc13",
   "metadata": {},
   "outputs": [],
   "source": [
    "test_lemmas = lemma.lemmatize(sentence)"
   ]
  },
  {
   "cell_type": "code",
   "execution_count": 60,
   "id": "9494d148",
   "metadata": {},
   "outputs": [],
   "source": [
    "test_lemmas = nltk.pos_tag(sentence.split())"
   ]
  },
  {
   "cell_type": "code",
   "execution_count": 61,
   "id": "cc94ff21",
   "metadata": {
    "scrolled": true
   },
   "outputs": [
    {
     "data": {
      "text/plain": [
       "[('dogs', 'NNS'),\n",
       " ('going', 'VBG'),\n",
       " ('to', 'TO'),\n",
       " ('be', 'VB'),\n",
       " ('playing', 'VBG')]"
      ]
     },
     "execution_count": 61,
     "metadata": {},
     "output_type": "execute_result"
    }
   ],
   "source": [
    "test_lemmas"
   ]
  },
  {
   "cell_type": "code",
   "execution_count": 64,
   "id": "54688b0f",
   "metadata": {},
   "outputs": [],
   "source": [
    "container = []\n",
    "for word,lem in test_lemmas:\n",
    "    pos = get_wordnet_pos(lem)\n",
    "    if pos:\n",
    "        container.append(lemma.lemmatize(word,pos=pos))\n",
    "    else:\n",
    "        container.append(lemma.lemmatize(word))"
   ]
  },
  {
   "cell_type": "code",
   "execution_count": 65,
   "id": "576c82a1",
   "metadata": {},
   "outputs": [
    {
     "data": {
      "text/plain": [
       "['dog', 'go', 'to', 'be', 'play']"
      ]
     },
     "execution_count": 65,
     "metadata": {},
     "output_type": "execute_result"
    }
   ],
   "source": [
    "container"
   ]
  },
  {
   "cell_type": "code",
   "execution_count": 52,
   "id": "fd0bcd97",
   "metadata": {},
   "outputs": [
    {
     "data": {
      "text/plain": [
       "'n'"
      ]
     },
     "execution_count": 52,
     "metadata": {},
     "output_type": "execute_result"
    }
   ],
   "source": [
    "get_wordnet_pos(nltk.pos_tag(['dog'])[0][1])"
   ]
  },
  {
   "cell_type": "code",
   "execution_count": 41,
   "id": "f48f62fe",
   "metadata": {},
   "outputs": [],
   "source": [
    "tag = nltk.pos_tag(['going'])"
   ]
  },
  {
   "cell_type": "code",
   "execution_count": 50,
   "id": "49753076",
   "metadata": {},
   "outputs": [
    {
     "data": {
      "text/plain": [
       "'v'"
      ]
     },
     "execution_count": 50,
     "metadata": {},
     "output_type": "execute_result"
    }
   ],
   "source": [
    "get_wordnet_pos(tag[0][1])"
   ]
  },
  {
   "cell_type": "code",
   "execution_count": 53,
   "id": "c2e17393",
   "metadata": {},
   "outputs": [
    {
     "data": {
      "text/plain": [
       "[('going', 'VBG')]"
      ]
     },
     "execution_count": 53,
     "metadata": {},
     "output_type": "execute_result"
    }
   ],
   "source": [
    "tag"
   ]
  },
  {
   "cell_type": "code",
   "execution_count": null,
   "id": "8c3bbea3",
   "metadata": {},
   "outputs": [],
   "source": []
  }
 ],
 "metadata": {
  "kernelspec": {
   "display_name": "Python 3 (ipykernel)",
   "language": "python",
   "name": "python3"
  },
  "language_info": {
   "codemirror_mode": {
    "name": "ipython",
    "version": 3
   },
   "file_extension": ".py",
   "mimetype": "text/x-python",
   "name": "python",
   "nbconvert_exporter": "python",
   "pygments_lexer": "ipython3",
   "version": "3.9.7"
  },
  "toc": {
   "base_numbering": 1,
   "nav_menu": {},
   "number_sections": true,
   "sideBar": true,
   "skip_h1_title": false,
   "title_cell": "Table of Contents",
   "title_sidebar": "Contents",
   "toc_cell": false,
   "toc_position": {},
   "toc_section_display": true,
   "toc_window_display": true
  }
 },
 "nbformat": 4,
 "nbformat_minor": 5
}
