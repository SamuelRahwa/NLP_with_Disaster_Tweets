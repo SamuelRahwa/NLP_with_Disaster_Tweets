{
 "cells": [
  {
   "cell_type": "code",
   "execution_count": 15,
   "id": "8fe021e8",
   "metadata": {
    "scrolled": true
   },
   "outputs": [],
   "source": [
    "import numpy as np\n",
    "import pandas as pd\n",
    "import matplotlib.pyplot as plt\n",
    "%matplotlib inline\n",
    "\n",
    "import tensorflow as tf\n",
    "import tensorflow_hub as hub"
   ]
  },
  {
   "cell_type": "code",
   "execution_count": 2,
   "id": "e3eb7369",
   "metadata": {},
   "outputs": [],
   "source": [
    "df = pd.read_csv(r'nlp-getting-started/train.csv')"
   ]
  },
  {
   "cell_type": "code",
   "execution_count": 3,
   "id": "17245074",
   "metadata": {},
   "outputs": [
    {
     "data": {
      "text/html": [
       "<div>\n",
       "<style scoped>\n",
       "    .dataframe tbody tr th:only-of-type {\n",
       "        vertical-align: middle;\n",
       "    }\n",
       "\n",
       "    .dataframe tbody tr th {\n",
       "        vertical-align: top;\n",
       "    }\n",
       "\n",
       "    .dataframe thead th {\n",
       "        text-align: right;\n",
       "    }\n",
       "</style>\n",
       "<table border=\"1\" class=\"dataframe\">\n",
       "  <thead>\n",
       "    <tr style=\"text-align: right;\">\n",
       "      <th></th>\n",
       "      <th>id</th>\n",
       "      <th>keyword</th>\n",
       "      <th>location</th>\n",
       "      <th>text</th>\n",
       "      <th>target</th>\n",
       "    </tr>\n",
       "  </thead>\n",
       "  <tbody>\n",
       "    <tr>\n",
       "      <th>0</th>\n",
       "      <td>1</td>\n",
       "      <td>NaN</td>\n",
       "      <td>NaN</td>\n",
       "      <td>Our Deeds are the Reason of this #earthquake M...</td>\n",
       "      <td>1</td>\n",
       "    </tr>\n",
       "    <tr>\n",
       "      <th>1</th>\n",
       "      <td>4</td>\n",
       "      <td>NaN</td>\n",
       "      <td>NaN</td>\n",
       "      <td>Forest fire near La Ronge Sask. Canada</td>\n",
       "      <td>1</td>\n",
       "    </tr>\n",
       "    <tr>\n",
       "      <th>2</th>\n",
       "      <td>5</td>\n",
       "      <td>NaN</td>\n",
       "      <td>NaN</td>\n",
       "      <td>All residents asked to 'shelter in place' are ...</td>\n",
       "      <td>1</td>\n",
       "    </tr>\n",
       "    <tr>\n",
       "      <th>3</th>\n",
       "      <td>6</td>\n",
       "      <td>NaN</td>\n",
       "      <td>NaN</td>\n",
       "      <td>13,000 people receive #wildfires evacuation or...</td>\n",
       "      <td>1</td>\n",
       "    </tr>\n",
       "    <tr>\n",
       "      <th>4</th>\n",
       "      <td>7</td>\n",
       "      <td>NaN</td>\n",
       "      <td>NaN</td>\n",
       "      <td>Just got sent this photo from Ruby #Alaska as ...</td>\n",
       "      <td>1</td>\n",
       "    </tr>\n",
       "  </tbody>\n",
       "</table>\n",
       "</div>"
      ],
      "text/plain": [
       "   id keyword location                                               text  \\\n",
       "0   1     NaN      NaN  Our Deeds are the Reason of this #earthquake M...   \n",
       "1   4     NaN      NaN             Forest fire near La Ronge Sask. Canada   \n",
       "2   5     NaN      NaN  All residents asked to 'shelter in place' are ...   \n",
       "3   6     NaN      NaN  13,000 people receive #wildfires evacuation or...   \n",
       "4   7     NaN      NaN  Just got sent this photo from Ruby #Alaska as ...   \n",
       "\n",
       "   target  \n",
       "0       1  \n",
       "1       1  \n",
       "2       1  \n",
       "3       1  \n",
       "4       1  "
      ]
     },
     "execution_count": 3,
     "metadata": {},
     "output_type": "execute_result"
    }
   ],
   "source": [
    "df.head()"
   ]
  },
  {
   "cell_type": "code",
   "execution_count": 5,
   "id": "68bad618",
   "metadata": {},
   "outputs": [],
   "source": [
    "#nnlm-en-dim50 - embedding"
   ]
  },
  {
   "cell_type": "code",
   "execution_count": 78,
   "id": "4d889547",
   "metadata": {},
   "outputs": [],
   "source": [
    "def df_to_dataset(dataframe, shuffle=True, batch_size=32):\n",
    "    df = dataframe.copy()\n",
    "    labels = df.pop('target')\n",
    "    df = df['text']\n",
    "    ds = tf.data.Dataset.from_tensor_slices((df, labels))\n",
    "    if shuffle:\n",
    "        ds = ds.shuffle(buffer_size=len(dataframe))\n",
    "    ds = ds.batch(batch_size)\n",
    "    ds = ds.prefetch(tf.data.AUTOTUNE)\n",
    "    return ds"
   ]
  },
  {
   "cell_type": "code",
   "execution_count": 20,
   "id": "a008a642",
   "metadata": {},
   "outputs": [
    {
     "name": "stdout",
     "output_type": "stream",
     "text": [
      "NG_Test_Notebook.ipynb\n",
      "NLP_EDA_CLEANING_ ROUND_1.ipynb\n",
      "NLP_EDA_CLEANING_ ROUND_2.ipynb\n",
      "NLP_EDA_CLEANING_ ROUND_3.ipynb\n",
      "NLP_EDA_CLEANING_ ROUND_4.ipynb\n",
      "NLP_EDA_CLEANING_ ROUND_5.ipynb\n",
      "README.md\n",
      "TF_GPU Notebook.ipynb\n",
      "final_clean_text.csv\n",
      "nlp-getting-started\n"
     ]
    }
   ],
   "source": [
    "!ls"
   ]
  },
  {
   "cell_type": "code",
   "execution_count": 21,
   "id": "bf66e80a",
   "metadata": {},
   "outputs": [],
   "source": [
    "cleaned = pd.read_csv('final_clean_text.csv')"
   ]
  },
  {
   "cell_type": "code",
   "execution_count": 23,
   "id": "a3b7a2b3",
   "metadata": {},
   "outputs": [],
   "source": [
    "data = cleaned[['text','target']]"
   ]
  },
  {
   "cell_type": "code",
   "execution_count": 24,
   "id": "1dc19b40",
   "metadata": {
    "scrolled": true
   },
   "outputs": [
    {
     "data": {
      "text/html": [
       "<div>\n",
       "<style scoped>\n",
       "    .dataframe tbody tr th:only-of-type {\n",
       "        vertical-align: middle;\n",
       "    }\n",
       "\n",
       "    .dataframe tbody tr th {\n",
       "        vertical-align: top;\n",
       "    }\n",
       "\n",
       "    .dataframe thead th {\n",
       "        text-align: right;\n",
       "    }\n",
       "</style>\n",
       "<table border=\"1\" class=\"dataframe\">\n",
       "  <thead>\n",
       "    <tr style=\"text-align: right;\">\n",
       "      <th></th>\n",
       "      <th>text</th>\n",
       "      <th>target</th>\n",
       "    </tr>\n",
       "  </thead>\n",
       "  <tbody>\n",
       "    <tr>\n",
       "      <th>0</th>\n",
       "      <td>reason</td>\n",
       "      <td>1</td>\n",
       "    </tr>\n",
       "    <tr>\n",
       "      <th>1</th>\n",
       "      <td>forest fire near la canada</td>\n",
       "      <td>1</td>\n",
       "    </tr>\n",
       "    <tr>\n",
       "      <th>2</th>\n",
       "      <td>resident ask shelter place officer evacuation ...</td>\n",
       "      <td>1</td>\n",
       "    </tr>\n",
       "    <tr>\n",
       "      <th>3</th>\n",
       "      <td>people evacuation order california</td>\n",
       "      <td>1</td>\n",
       "    </tr>\n",
       "    <tr>\n",
       "      <th>4</th>\n",
       "      <td>get send photo smoke school</td>\n",
       "      <td>1</td>\n",
       "    </tr>\n",
       "    <tr>\n",
       "      <th>...</th>\n",
       "      <td>...</td>\n",
       "      <td>...</td>\n",
       "    </tr>\n",
       "    <tr>\n",
       "      <th>7608</th>\n",
       "      <td>giant crane hold bridge collapse nearby home</td>\n",
       "      <td>1</td>\n",
       "    </tr>\n",
       "    <tr>\n",
       "      <th>7609</th>\n",
       "      <td>control wild fire california northern state</td>\n",
       "      <td>1</td>\n",
       "    </tr>\n",
       "    <tr>\n",
       "      <th>7610</th>\n",
       "      <td>m utc km s volcano hawaii</td>\n",
       "      <td>1</td>\n",
       "    </tr>\n",
       "    <tr>\n",
       "      <th>7611</th>\n",
       "      <td>police investigate e bike collide car little e...</td>\n",
       "      <td>1</td>\n",
       "    </tr>\n",
       "    <tr>\n",
       "      <th>7612</th>\n",
       "      <td>late home raze northern california wildfire ab...</td>\n",
       "      <td>1</td>\n",
       "    </tr>\n",
       "  </tbody>\n",
       "</table>\n",
       "<p>7613 rows × 2 columns</p>\n",
       "</div>"
      ],
      "text/plain": [
       "                                                   text  target\n",
       "0                                                reason       1\n",
       "1                            forest fire near la canada       1\n",
       "2     resident ask shelter place officer evacuation ...       1\n",
       "3                    people evacuation order california       1\n",
       "4                           get send photo smoke school       1\n",
       "...                                                 ...     ...\n",
       "7608       giant crane hold bridge collapse nearby home       1\n",
       "7609        control wild fire california northern state       1\n",
       "7610                          m utc km s volcano hawaii       1\n",
       "7611  police investigate e bike collide car little e...       1\n",
       "7612  late home raze northern california wildfire ab...       1\n",
       "\n",
       "[7613 rows x 2 columns]"
      ]
     },
     "execution_count": 24,
     "metadata": {},
     "output_type": "execute_result"
    }
   ],
   "source": [
    "data"
   ]
  },
  {
   "cell_type": "code",
   "execution_count": 40,
   "id": "6e8cfce3",
   "metadata": {
    "scrolled": true
   },
   "outputs": [
    {
     "name": "stderr",
     "output_type": "stream",
     "text": [
      "C:\\Users\\Nel-Jiren\\AppData\\Local\\Temp\\ipykernel_2376\\1237765203.py:1: SettingWithCopyWarning: \n",
      "A value is trying to be set on a copy of a slice from a DataFrame\n",
      "\n",
      "See the caveats in the documentation: https://pandas.pydata.org/pandas-docs/stable/user_guide/indexing.html#returning-a-view-versus-a-copy\n",
      "  data.dropna(subset='text',inplace=True)\n"
     ]
    }
   ],
   "source": [
    "data.dropna(subset='text',inplace=True)"
   ]
  },
  {
   "cell_type": "code",
   "execution_count": 41,
   "id": "5ee02e62",
   "metadata": {},
   "outputs": [
    {
     "data": {
      "text/html": [
       "<div>\n",
       "<style scoped>\n",
       "    .dataframe tbody tr th:only-of-type {\n",
       "        vertical-align: middle;\n",
       "    }\n",
       "\n",
       "    .dataframe tbody tr th {\n",
       "        vertical-align: top;\n",
       "    }\n",
       "\n",
       "    .dataframe thead th {\n",
       "        text-align: right;\n",
       "    }\n",
       "</style>\n",
       "<table border=\"1\" class=\"dataframe\">\n",
       "  <thead>\n",
       "    <tr style=\"text-align: right;\">\n",
       "      <th></th>\n",
       "      <th>text</th>\n",
       "      <th>target</th>\n",
       "    </tr>\n",
       "  </thead>\n",
       "  <tbody>\n",
       "    <tr>\n",
       "      <th>0</th>\n",
       "      <td>reason</td>\n",
       "      <td>1</td>\n",
       "    </tr>\n",
       "    <tr>\n",
       "      <th>1</th>\n",
       "      <td>forest fire near la canada</td>\n",
       "      <td>1</td>\n",
       "    </tr>\n",
       "    <tr>\n",
       "      <th>2</th>\n",
       "      <td>resident ask shelter place officer evacuation ...</td>\n",
       "      <td>1</td>\n",
       "    </tr>\n",
       "    <tr>\n",
       "      <th>3</th>\n",
       "      <td>people evacuation order california</td>\n",
       "      <td>1</td>\n",
       "    </tr>\n",
       "    <tr>\n",
       "      <th>4</th>\n",
       "      <td>get send photo smoke school</td>\n",
       "      <td>1</td>\n",
       "    </tr>\n",
       "    <tr>\n",
       "      <th>...</th>\n",
       "      <td>...</td>\n",
       "      <td>...</td>\n",
       "    </tr>\n",
       "    <tr>\n",
       "      <th>7608</th>\n",
       "      <td>giant crane hold bridge collapse nearby home</td>\n",
       "      <td>1</td>\n",
       "    </tr>\n",
       "    <tr>\n",
       "      <th>7609</th>\n",
       "      <td>control wild fire california northern state</td>\n",
       "      <td>1</td>\n",
       "    </tr>\n",
       "    <tr>\n",
       "      <th>7610</th>\n",
       "      <td>m utc km s volcano hawaii</td>\n",
       "      <td>1</td>\n",
       "    </tr>\n",
       "    <tr>\n",
       "      <th>7611</th>\n",
       "      <td>police investigate e bike collide car little e...</td>\n",
       "      <td>1</td>\n",
       "    </tr>\n",
       "    <tr>\n",
       "      <th>7612</th>\n",
       "      <td>late home raze northern california wildfire ab...</td>\n",
       "      <td>1</td>\n",
       "    </tr>\n",
       "  </tbody>\n",
       "</table>\n",
       "<p>7562 rows × 2 columns</p>\n",
       "</div>"
      ],
      "text/plain": [
       "                                                   text  target\n",
       "0                                                reason       1\n",
       "1                            forest fire near la canada       1\n",
       "2     resident ask shelter place officer evacuation ...       1\n",
       "3                    people evacuation order california       1\n",
       "4                           get send photo smoke school       1\n",
       "...                                                 ...     ...\n",
       "7608       giant crane hold bridge collapse nearby home       1\n",
       "7609        control wild fire california northern state       1\n",
       "7610                          m utc km s volcano hawaii       1\n",
       "7611  police investigate e bike collide car little e...       1\n",
       "7612  late home raze northern california wildfire ab...       1\n",
       "\n",
       "[7562 rows x 2 columns]"
      ]
     },
     "execution_count": 41,
     "metadata": {},
     "output_type": "execute_result"
    }
   ],
   "source": [
    "data"
   ]
  },
  {
   "cell_type": "code",
   "execution_count": 79,
   "id": "b0a020c8",
   "metadata": {},
   "outputs": [],
   "source": [
    "train,val,test = np.split(data.sample(frac=1),[int(0.8*len(data)),int(0.9*len(data))])"
   ]
  },
  {
   "cell_type": "code",
   "execution_count": 80,
   "id": "ef614945",
   "metadata": {},
   "outputs": [],
   "source": [
    "train['target'] = train['target'].astype(np.float32)\n",
    "val['target'] = val['target'].astype(np.float32)\n",
    "test['target'] = test['target'].astype(np.float32)"
   ]
  },
  {
   "cell_type": "code",
   "execution_count": 81,
   "id": "cd8829b7",
   "metadata": {},
   "outputs": [],
   "source": [
    "train_data = df_to_dataset(train)\n",
    "val_data = df_to_dataset(val)\n",
    "test_data = df_to_dataset(test)\n"
   ]
  },
  {
   "cell_type": "code",
   "execution_count": 82,
   "id": "fb5c09a2",
   "metadata": {},
   "outputs": [
    {
     "data": {
      "text/plain": [
       "<PrefetchDataset element_spec=(TensorSpec(shape=(None,), dtype=tf.string, name=None), TensorSpec(shape=(None,), dtype=tf.float32, name=None))>"
      ]
     },
     "execution_count": 82,
     "metadata": {},
     "output_type": "execute_result"
    }
   ],
   "source": [
    "train_data"
   ]
  },
  {
   "cell_type": "code",
   "execution_count": 83,
   "id": "0e42842c",
   "metadata": {},
   "outputs": [],
   "source": [
    "#Embedding\n",
    "embedding = \"https://tfhub.dev/google/nnlm-en-dim50/2\"\n",
    "hub_layer = hub.KerasLayer(embedding,dtype=tf.string,trainable=True)"
   ]
  },
  {
   "cell_type": "code",
   "execution_count": 85,
   "id": "b8e848db",
   "metadata": {},
   "outputs": [
    {
     "data": {
      "text/plain": [
       "<tf.Tensor: shape=(32, 50), dtype=float32, numpy=\n",
       "array([[ 0.03852159, -0.08648715, -0.06310192, ..., -0.18678999,\n",
       "         0.11386462, -0.09460337],\n",
       "       [ 0.4262566 , -0.35200092, -0.35610086, ..., -0.13426721,\n",
       "         0.06249361,  0.00480677],\n",
       "       [ 0.08526707, -0.36245224, -0.23816806, ...,  0.14466585,\n",
       "         0.15532365,  0.09154053],\n",
       "       ...,\n",
       "       [ 0.03080357, -0.13285078, -0.19268598, ...,  0.25264463,\n",
       "         0.21641956,  0.23369943],\n",
       "       [ 0.2506481 , -0.0061364 , -0.08694553, ..., -0.1694531 ,\n",
       "         0.25572866,  0.29098326],\n",
       "       [ 0.04825676, -0.4571292 , -0.05551463, ..., -0.18179433,\n",
       "         0.39687753,  0.193956  ]], dtype=float32)>"
      ]
     },
     "execution_count": 85,
     "metadata": {},
     "output_type": "execute_result"
    }
   ],
   "source": [
    "hub_layer(list(train_data)[0][0])"
   ]
  },
  {
   "cell_type": "code",
   "execution_count": 98,
   "id": "703d1b9c",
   "metadata": {},
   "outputs": [],
   "source": [
    "model = tf.keras.Sequential()\n",
    "model.add(hub_layer)\n",
    "model.add(tf.keras.layers.Dense(16,activation='relu'))\n",
    "model.add(tf.keras.layers.Dense(16,activation='relu'))\n",
    "model.add(tf.keras.layers.Dense(1,activation='sigmoid'))"
   ]
  },
  {
   "cell_type": "code",
   "execution_count": 99,
   "id": "4b08806f",
   "metadata": {},
   "outputs": [],
   "source": [
    "model.compile(optimizer=tf.keras.optimizers.Adam(learning_rate=0.001),\n",
    "              loss=tf.keras.losses.BinaryCrossentropy(),\n",
    "              metrics=['accuracy'])"
   ]
  },
  {
   "cell_type": "code",
   "execution_count": 100,
   "id": "39ca9aa6",
   "metadata": {},
   "outputs": [
    {
     "name": "stdout",
     "output_type": "stream",
     "text": [
      "Epoch 1/10\n",
      "190/190 [==============================] - 5s 25ms/step - loss: 0.3790 - accuracy: 0.8563 - val_loss: 0.6379 - val_accuracy: 0.7447\n",
      "Epoch 2/10\n",
      "190/190 [==============================] - 5s 24ms/step - loss: 0.2418 - accuracy: 0.8954 - val_loss: 0.7048 - val_accuracy: 0.7579\n",
      "Epoch 3/10\n",
      "190/190 [==============================] - 5s 26ms/step - loss: 0.2113 - accuracy: 0.9091 - val_loss: 0.8007 - val_accuracy: 0.7540\n",
      "Epoch 4/10\n",
      "190/190 [==============================] - 5s 28ms/step - loss: 0.1890 - accuracy: 0.9211 - val_loss: 0.9029 - val_accuracy: 0.7540\n",
      "Epoch 5/10\n",
      "190/190 [==============================] - 5s 25ms/step - loss: 0.1709 - accuracy: 0.9278 - val_loss: 1.0000 - val_accuracy: 0.7487\n",
      "Epoch 6/10\n",
      "190/190 [==============================] - 5s 25ms/step - loss: 0.1557 - accuracy: 0.9326 - val_loss: 1.0705 - val_accuracy: 0.7513\n",
      "Epoch 7/10\n",
      "190/190 [==============================] - 5s 26ms/step - loss: 0.1418 - accuracy: 0.9418 - val_loss: 1.2105 - val_accuracy: 0.7526\n",
      "Epoch 8/10\n",
      "190/190 [==============================] - 5s 26ms/step - loss: 0.1317 - accuracy: 0.9458 - val_loss: 1.2723 - val_accuracy: 0.7447\n",
      "Epoch 9/10\n",
      "190/190 [==============================] - 5s 27ms/step - loss: 0.1198 - accuracy: 0.9529 - val_loss: 1.3810 - val_accuracy: 0.7354\n",
      "Epoch 10/10\n",
      "190/190 [==============================] - 6s 30ms/step - loss: 0.1135 - accuracy: 0.9572 - val_loss: 1.4740 - val_accuracy: 0.7421\n"
     ]
    }
   ],
   "source": [
    "history = model.fit(train_data,epochs=10,validation_data = val_data)"
   ]
  },
  {
   "cell_type": "code",
   "execution_count": 101,
   "id": "69655017",
   "metadata": {},
   "outputs": [
    {
     "data": {
      "text/plain": [
       "[<matplotlib.lines.Line2D at 0x192ad28b7c0>]"
      ]
     },
     "execution_count": 101,
     "metadata": {},
     "output_type": "execute_result"
    },
    {
     "data": {
      "image/png": "[encoded data removed]",
      "text/plain": [
       "<Figure size 432x288 with 1 Axes>"
      ]
     },
     "metadata": {
      "needs_background": "light"
     },
     "output_type": "display_data"
    }
   ],
   "source": [
    "plt.plot(history.history['accuracy'])\n",
    "plt.plot(history.history['val_accuracy'])\n"
   ]
  },
  {
   "cell_type": "code",
   "execution_count": 102,
   "id": "51a67251",
   "metadata": {},
   "outputs": [],
   "source": [
    "#LSTM"
   ]
  },
  {
   "cell_type": "code",
   "execution_count": 103,
   "id": "5a35fa66",
   "metadata": {},
   "outputs": [],
   "source": [
    "encoder = tf.keras.layers.TextVectorization(max_tokens=2000)\n",
    "encoder.adapt(train_data.map(lambda text, label:text))"
   ]
  },
  {
   "cell_type": "code",
   "execution_count": 104,
   "id": "7bd68aa3",
   "metadata": {},
   "outputs": [
    {
     "data": {
      "text/plain": [
       "array(['', '[UNK]', 'like', 'fire', 'new', 'go', 'get', 'people', 'year',\n",
       "       'video', 'time', 'burn', 'bomb', 'kill', 'crash', 'emergency',\n",
       "       'come', 'body', 'attack', 'want'], dtype='<U13')"
      ]
     },
     "execution_count": 104,
     "metadata": {},
     "output_type": "execute_result"
    }
   ],
   "source": [
    "vocab = np.array(encoder.get_vocabulary())\n",
    "vocab[:20]"
   ]
  },
  {
   "cell_type": "code",
   "execution_count": 107,
   "id": "5bb6314d",
   "metadata": {},
   "outputs": [],
   "source": [
    "model2 = tf.keras.Sequential([\n",
    "    encoder,\n",
    "    tf.keras.layers.Embedding(\n",
    "    input_dim = len(encoder.get_vocabulary()),\n",
    "    output_dim=32,\n",
    "    mask_zero=True),\n",
    "    tf.keras.layers.LSTM(32),\n",
    "    tf.keras.layers.Dense(32,activation='relu'),\n",
    "    tf.keras.layers.Dense(1,activation='sigmoid')\n",
    "])"
   ]
  },
  {
   "cell_type": "code",
   "execution_count": 108,
   "id": "ced61c1d",
   "metadata": {},
   "outputs": [],
   "source": [
    "model2.compile(optimizer=tf.keras.optimizers.Adam(learning_rate=0.001),\n",
    "              loss=tf.keras.losses.BinaryCrossentropy(),\n",
    "              metrics=['accuracy'])"
   ]
  },
  {
   "cell_type": "code",
   "execution_count": 109,
   "id": "4552c6fb",
   "metadata": {},
   "outputs": [
    {
     "name": "stdout",
     "output_type": "stream",
     "text": [
      "Epoch 1/10\n",
      "190/190 [==============================] - 20s 21ms/step - loss: 0.5631 - accuracy: 0.7150 - val_loss: 0.4834 - val_accuracy: 0.7698\n",
      "Epoch 2/10\n",
      "190/190 [==============================] - 3s 14ms/step - loss: 0.3963 - accuracy: 0.8319 - val_loss: 0.4906 - val_accuracy: 0.7712\n",
      "Epoch 3/10\n",
      "190/190 [==============================] - 3s 13ms/step - loss: 0.3500 - accuracy: 0.8558 - val_loss: 0.5259 - val_accuracy: 0.7765\n",
      "Epoch 4/10\n",
      "190/190 [==============================] - 3s 14ms/step - loss: 0.3227 - accuracy: 0.8704 - val_loss: 0.5531 - val_accuracy: 0.7606\n",
      "Epoch 5/10\n",
      "190/190 [==============================] - 3s 13ms/step - loss: 0.3051 - accuracy: 0.8787 - val_loss: 0.6267 - val_accuracy: 0.7646\n",
      "Epoch 6/10\n",
      "190/190 [==============================] - 3s 13ms/step - loss: 0.2825 - accuracy: 0.8927 - val_loss: 0.6340 - val_accuracy: 0.7553\n",
      "Epoch 7/10\n",
      "190/190 [==============================] - 3s 13ms/step - loss: 0.2585 - accuracy: 0.8998 - val_loss: 0.6667 - val_accuracy: 0.7646\n",
      "Epoch 8/10\n",
      "190/190 [==============================] - 3s 13ms/step - loss: 0.2344 - accuracy: 0.9074 - val_loss: 0.7280 - val_accuracy: 0.7606\n",
      "Epoch 9/10\n",
      "190/190 [==============================] - 3s 15ms/step - loss: 0.2103 - accuracy: 0.9173 - val_loss: 0.9481 - val_accuracy: 0.7474\n",
      "Epoch 10/10\n",
      "190/190 [==============================] - 3s 14ms/step - loss: 0.1901 - accuracy: 0.9215 - val_loss: 0.9530 - val_accuracy: 0.7566\n"
     ]
    }
   ],
   "source": [
    "history2 = model2.fit(train_data,epochs=10,validation_data=val_data)"
   ]
  },
  {
   "cell_type": "code",
   "execution_count": 110,
   "id": "f655757f",
   "metadata": {},
   "outputs": [
    {
     "data": {
      "image/png": "[encoded data removed]",
      "text/plain": [
       "<Figure size 432x288 with 1 Axes>"
      ]
     },
     "metadata": {
      "needs_background": "light"
     },
     "output_type": "display_data"
    }
   ],
   "source": [
    "plt.plot(history2.history['accuracy'])\n",
    "plt.plot(history2.history['val_accuracy'])\n",
    "plt.show()"
   ]
  },
  {
   "cell_type": "code",
   "execution_count": null,
   "id": "ac8e9362",
   "metadata": {},
   "outputs": [],
   "source": []
  }
 ],
 "metadata": {
  "kernelspec": {
   "display_name": "tf-gpu",
   "language": "python",
   "name": "tf-gpu"
  },
  "language_info": {
   "codemirror_mode": {
    "name": "ipython",
    "version": 3
   },
   "file_extension": ".py",
   "mimetype": "text/x-python",
   "name": "python",
   "nbconvert_exporter": "python",
   "pygments_lexer": "ipython3",
   "version": "3.8.0"
  },
  "toc": {
   "base_numbering": 1,
   "nav_menu": {},
   "number_sections": true,
   "sideBar": true,
   "skip_h1_title": false,
   "title_cell": "Table of Contents",
   "title_sidebar": "Contents",
   "toc_cell": false,
   "toc_position": {
    "height": "calc(100% - 180px)",
    "left": "10px",
    "top": "150px",
    "width": "270.903px"
   },
   "toc_section_display": true,
   "toc_window_display": true
  }
 },
 "nbformat": 4,
 "nbformat_minor": 5
}
